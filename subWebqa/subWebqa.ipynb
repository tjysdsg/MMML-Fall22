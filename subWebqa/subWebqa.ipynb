{
 "cells": [
  {
   "cell_type": "code",
   "execution_count": 2,
   "id": "0c1f1834-8093-4a57-98ed-1af0af13a5b1",
   "metadata": {},
   "outputs": [],
   "source": [
    "import json\n",
    "from collections import Counter"
   ]
  },
  {
   "cell_type": "code",
   "execution_count": 15,
   "id": "9a41fb9d-16c6-4206-8922-1a0abfcd1fc0",
   "metadata": {},
   "outputs": [],
   "source": [
    "json_dir = '../json_data/'\n",
    "with open('../../webqa/WebQA/data/WebQA_train_val.json','r') as f:\n",
    "    train_data = json.load(f)\n",
    "with open('../../webqa/WebQA/data/WebQA_test.json','r') as f:\n",
    "    test_data = json.load(f)"
   ]
  },
  {
   "cell_type": "code",
   "execution_count": 16,
   "id": "15dfff69-1497-4170-a50f-7676694f297e",
   "metadata": {},
   "outputs": [
    {
     "name": "stdout",
     "output_type": "stream",
     "text": [
      "Counter({'train': 36766, 'val': 4966})\n",
      "41732\n",
      "Counter({'text': 20267, 'YesNo': 7320, 'Others': 5412, 'choose': 4220, 'number': 2118, 'color': 1830, 'shape': 565})\n"
     ]
    }
   ],
   "source": [
    "print(Counter([train_data[k]['split'] for k in train_data]))\n",
    "print(len(set([train_data[k]['Guid'] for k in train_data])))\n",
    "print(Counter([train_data[k]['Qcate'] for k in train_data]))"
   ]
  },
  {
   "cell_type": "code",
   "execution_count": 101,
   "id": "4a84ad75-6938-4066-83fc-692335cc0106",
   "metadata": {},
   "outputs": [
    {
     "data": {
      "text/plain": [
       "[{'image_id': 30033617,\n",
       "  'title': 'Hall Park Academy Exterior',\n",
       "  'caption': 'Hall Park Academy Exterior Photograph of the exterior of Hall Park Academy showing the main reception area and part of the school building.',\n",
       "  'url': 'https://commons.wikimedia.org/wiki/File:Hall_Park_Academy_Exterior.jpg',\n",
       "  'imgUrl': 'https://upload.wikimedia.org/wikipedia/commons/thumb/3/39/Hall_Park_Academy_Exterior.jpg/800px-Hall_Park_Academy_Exterior.jpg'},\n",
       " {'image_id': 30090059,\n",
       "  'title': 'The Original Playboy Mansion',\n",
       "  'caption': 'The Original Playboy Mansion 1340 N State Pkwy Chicago, IL 60610',\n",
       "  'url': 'https://commons.wikimedia.org/wiki/File:The_Original_Playboy_Mansion.jpg',\n",
       "  'imgUrl': 'https://upload.wikimedia.org/wikipedia/commons/thumb/1/14/The_Original_Playboy_Mansion.jpg/800px-The_Original_Playboy_Mansion.jpg'},\n",
       " {'image_id': 30101667,\n",
       "  'title': 'Moorside High School, Cellarhead - geograph.org.uk - 340365',\n",
       "  'caption': 'Moorside High School, Cellarhead - geograph.org.uk - 340365 Moorside High School, Cellarhead Moorside High School is based in Cellarhead, Werrington. It has around 800 students aged between 11-18.',\n",
       "  'url': 'https://commons.wikimedia.org/wiki/File:Moorside_High_School%2C_Cellarhead_-_geograph.org.uk_-_340365.jpg',\n",
       "  'imgUrl': 'https://upload.wikimedia.org/wikipedia/commons/d/d8/Moorside_High_School%2C_Cellarhead_-_geograph.org.uk_-_340365.jpg'},\n",
       " {'image_id': 30114213,\n",
       "  'title': 'Joe Beck 1977',\n",
       "  'caption': 'Joe Beck 1977',\n",
       "  'url': 'https://commons.wikimedia.org/wiki/File:Joe_Beck_1977.JPG',\n",
       "  'imgUrl': 'https://upload.wikimedia.org/wikipedia/commons/thumb/7/75/Joe_Beck_1977.JPG/393px-Joe_Beck_1977.JPG'},\n",
       " {'image_id': 30136727,\n",
       "  'title': 'Yemen man',\n",
       "  'caption': 'Yemen man',\n",
       "  'url': 'https://commons.wikimedia.org/wiki/File:Yemen_man.jpg',\n",
       "  'imgUrl': 'https://upload.wikimedia.org/wikipedia/commons/c/ca/Yemen_man.jpg'},\n",
       " {'image_id': 30146829,\n",
       "  'title': 'Morgan Park High School Color',\n",
       "  'caption': 'Morgan Park High School Color Morgan Park High School, 2016',\n",
       "  'url': 'https://commons.wikimedia.org/wiki/File:Morgan_Park_High_School_Color.jpg',\n",
       "  'imgUrl': 'https://upload.wikimedia.org/wikipedia/commons/thumb/a/aa/Morgan_Park_High_School_Color.jpg/800px-Morgan_Park_High_School_Color.jpg'},\n",
       " {'image_id': 30164419,\n",
       "  'title': 'GAGE PARK FALL BEAUTY OCT 09',\n",
       "  'caption': 'GAGE PARK FALL BEAUTY OCT 09 Fall Colours in Gage Park',\n",
       "  'url': 'https://commons.wikimedia.org/wiki/File:GAGE_PARK_FALL_BEAUTY_OCT_09.jpg',\n",
       "  'imgUrl': 'https://upload.wikimedia.org/wikipedia/commons/thumb/a/ac/GAGE_PARK_FALL_BEAUTY_OCT_09.jpg/800px-GAGE_PARK_FALL_BEAUTY_OCT_09.jpg'},\n",
       " {'image_id': 30194722,\n",
       "  'title': 'Rose Garden at Lynch Park',\n",
       "  'caption': 'Rose Garden at Lynch Park This garden is on the former site of the Stetson Cottage, on the Woodbury Point estate of Robert Dawson and Marie Antoinette Evans.',\n",
       "  'url': 'https://commons.wikimedia.org/wiki/File:Rose_Garden_at_Lynch_Park.jpg',\n",
       "  'imgUrl': 'https://upload.wikimedia.org/wikipedia/commons/5/57/Rose_Garden_at_Lynch_Park.jpg'},\n",
       " {'image_id': 30195341,\n",
       "  'title': 'Sweet Home High School',\n",
       "  'caption': 'Sweet Home High School Sweet Home High School in Sweet Home, Oregon',\n",
       "  'url': 'https://commons.wikimedia.org/wiki/File:Sweet_Home_High_School.jpg',\n",
       "  'imgUrl': 'https://upload.wikimedia.org/wikipedia/commons/thumb/1/13/Sweet_Home_High_School.jpg/796px-Sweet_Home_High_School.jpg'},\n",
       " {'image_id': 30222292,\n",
       "  'title': 'GageParkHamiltonA',\n",
       "  'caption': 'GageParkHamiltonA',\n",
       "  'url': 'https://commons.wikimedia.org/wiki/File:GageParkHamiltonA.JPG',\n",
       "  'imgUrl': 'https://upload.wikimedia.org/wikipedia/commons/thumb/8/86/GageParkHamiltonA.JPG/800px-GageParkHamiltonA.JPG'},\n",
       " {'image_id': 30240292,\n",
       "  'title': 'WohlheterMansion',\n",
       "  'caption': 'WohlheterMansion Wohlheter Mansion, 320 Woodland Avenue, Fairmont, Minnesota.',\n",
       "  'url': 'https://commons.wikimedia.org/wiki/File:WohlheterMansion.jpg',\n",
       "  'imgUrl': 'https://upload.wikimedia.org/wikipedia/commons/a/af/WohlheterMansion.jpg'},\n",
       " {'image_id': 30240842,\n",
       "  'title': 'Gage Park High School Chicago',\n",
       "  'caption': 'Gage Park High School Chicago Gage Park High School, Chicago',\n",
       "  'url': 'https://commons.wikimedia.org/wiki/File:Gage_Park_High_School_Chicago.jpg',\n",
       "  'imgUrl': 'https://upload.wikimedia.org/wikipedia/commons/thumb/7/7c/Gage_Park_High_School_Chicago.jpg/608px-Gage_Park_High_School_Chicago.jpg'},\n",
       " {'image_id': 30247643,\n",
       "  'title': 'Wells High School (2016)',\n",
       "  'caption': 'Wells High School (2016) Wells High School, Wells, ME. The front entrance of the renovated 1977 building.',\n",
       "  'url': 'https://commons.wikimedia.org/wiki/File:Wells_High_School_(2016).jpg',\n",
       "  'imgUrl': 'https://upload.wikimedia.org/wikipedia/commons/thumb/2/21/Wells_High_School_%282016%29.jpg/800px-Wells_High_School_%282016%29.jpg'},\n",
       " {'image_id': 30250919,\n",
       "  'title': 'Polanica Zdrój, park zdrojowy, 05',\n",
       "  'caption': 'Polanica Zdrój, park zdrojowy, 05',\n",
       "  'url': 'https://commons.wikimedia.org/wiki/File:Polanica_Zdr%C3%B3j%2C_park_zdrojowy%2C_05.JPG',\n",
       "  'imgUrl': 'https://upload.wikimedia.org/wikipedia/commons/thumb/0/0d/Polanica_Zdr%C3%B3j%2C_park_zdrojowy%2C_05.JPG/1200px-Polanica_Zdr%C3%B3j%2C_park_zdrojowy%2C_05.JPG'},\n",
       " {'image_id': 30265181,\n",
       "  'title': 'Hugh hefner promo image cropped.png',\n",
       "  'caption': 'Hugh hefner promo image cropped.png Hugh Hefner in Playboy After Dark, cropped from original promo image',\n",
       "  'url': 'https://commons.wikimedia.org/wiki/File:Hugh_hefner_promo_image_cropped.png',\n",
       "  'imgUrl': 'https://upload.wikimedia.org/wikipedia/commons/thumb/7/72/Hugh_hefner_promo_image_cropped.png/531px-Hugh_hefner_promo_image_cropped.png'},\n",
       " {'image_id': 30278260,\n",
       "  'title': 'Missouri-governor-mansion',\n",
       "  'caption': 'Missouri-governor-mansion',\n",
       "  'url': 'https://commons.wikimedia.org/wiki/File:Missouri-governor-mansion.jpg',\n",
       "  'imgUrl': 'https://upload.wikimedia.org/wikipedia/commons/thumb/6/6b/Missouri-governor-mansion.jpg/800px-Missouri-governor-mansion.jpg'},\n",
       " {'image_id': 30286581,\n",
       "  'title': 'Lemp Mansion 2012',\n",
       "  'caption': 'Lemp Mansion 2012 Lemp Mansion in 2012',\n",
       "  'url': 'https://commons.wikimedia.org/wiki/File:Lemp_Mansion_2012.jpg',\n",
       "  'imgUrl': 'https://upload.wikimedia.org/wikipedia/commons/c/c5/Lemp_Mansion_2012.jpg'},\n",
       " {'image_id': 30381655,\n",
       "  'title': 'Mick Jagger and Keith Richards',\n",
       "  'caption': 'Mick Jagger and Keith Richards Mick Jagger (left) and Keith Richards from The Rolling Stones at British Summer Time Festival in Hyde Park during a Rolling Stones concert, July 6, 2013',\n",
       "  'url': 'https://commons.wikimedia.org/wiki/File:Mick_Jagger_and_Keith_Richards.jpg',\n",
       "  'imgUrl': 'https://upload.wikimedia.org/wikipedia/commons/thumb/a/a4/Mick_Jagger_and_Keith_Richards.jpg/1185px-Mick_Jagger_and_Keith_Richards.jpg'}]"
      ]
     },
     "execution_count": 101,
     "metadata": {},
     "output_type": "execute_result"
    }
   ],
   "source": [
    "test_data['d5bbc4440dba11ecb1e81171463288e9']['img_Facts']"
   ]
  },
  {
   "cell_type": "code",
   "execution_count": 21,
   "id": "65e3c542-9a7f-4aea-bce6-17aea469f1f0",
   "metadata": {},
   "outputs": [
    {
     "data": {
      "text/plain": [
       "[{'image_id': 30321533,\n",
       "  'title': 'National Museum of the American Indian in Washington, D.C',\n",
       "  'caption': 'National Museum of the American Indian in Washington, D.C',\n",
       "  'url': 'https://commons.wikimedia.org/wiki/File:National_Museum_of_the_American_Indian_in_Washington%2C_D.C.jpg',\n",
       "  'imgUrl': 'https://upload.wikimedia.org/wikipedia/commons/thumb/b/ba/National_Museum_of_the_American_Indian_in_Washington%2C_D.C.jpg/800px-National_Museum_of_the_American_Indian_in_Washington%2C_D.C.jpg'},\n",
       " {'image_id': 30278153,\n",
       "  'title': 'Xanadu-House-in-Kissimmee-Florida-1985',\n",
       "  'caption': 'Xanadu-House-in-Kissimmee-Florida-1985 A photo of the Xanadu House that was located in Kissimmee, Florida, showing the exterior of the house.',\n",
       "  'url': 'https://commons.wikimedia.org/wiki/File:Xanadu-House-in-Kissimmee-Florida-1985.jpg',\n",
       "  'imgUrl': 'https://upload.wikimedia.org/wikipedia/commons/8/8f/Xanadu-House-in-Kissimmee-Florida-1985.jpg'}]"
      ]
     },
     "execution_count": 21,
     "metadata": {},
     "output_type": "execute_result"
    }
   ],
   "source": [
    "train_data['d5bbc6d80dba11ecb1e81171463288e9']['img_posFacts']"
   ]
  },
  {
   "cell_type": "code",
   "execution_count": 34,
   "id": "792bc08e-dbce-41a2-9f88-45c0591e2438",
   "metadata": {},
   "outputs": [
    {
     "data": {
      "text/plain": [
       "{'Q': '\"Are both the National Museum of the American Indian in Washington, D.C. and the Xanadu House in Kissimmee, Florida the same color?\"',\n",
       " 'A': ['\"Yes, both the National Museum of the American Indian in Washington, D.C. and the Xanadu House in Kissimmee, Florida are beige.\"'],\n",
       " 'topic': 'strange architecture',\n",
       " 'split': 'train',\n",
       " 'Qcate': 'YesNo',\n",
       " 'Guid': 'd5bbc6d80dba11ecb1e81171463288e9',\n",
       " 'img_posFacts': [{'image_id': 30321533,\n",
       "   'title': 'National Museum of the American Indian in Washington, D.C',\n",
       "   'caption': 'National Museum of the American Indian in Washington, D.C',\n",
       "   'url': 'https://commons.wikimedia.org/wiki/File:National_Museum_of_the_American_Indian_in_Washington%2C_D.C.jpg',\n",
       "   'imgUrl': 'https://upload.wikimedia.org/wikipedia/commons/thumb/b/ba/National_Museum_of_the_American_Indian_in_Washington%2C_D.C.jpg/800px-National_Museum_of_the_American_Indian_in_Washington%2C_D.C.jpg'},\n",
       "  {'image_id': 30278153,\n",
       "   'title': 'Xanadu-House-in-Kissimmee-Florida-1985',\n",
       "   'caption': 'Xanadu-House-in-Kissimmee-Florida-1985 A photo of the Xanadu House that was located in Kissimmee, Florida, showing the exterior of the house.',\n",
       "   'url': 'https://commons.wikimedia.org/wiki/File:Xanadu-House-in-Kissimmee-Florida-1985.jpg',\n",
       "   'imgUrl': 'https://upload.wikimedia.org/wikipedia/commons/8/8f/Xanadu-House-in-Kissimmee-Florida-1985.jpg'}],\n",
       " 'img_negFacts': [{'image_id': 30095223,\n",
       "   'title': 'National Museum of the American Indian',\n",
       "   'caption': 'National Museum of the American Indian',\n",
       "   'url': 'https://commons.wikimedia.org/wiki/File:National_Museum_of_the_American_Indian.jpg',\n",
       "   'imgUrl': 'https://upload.wikimedia.org/wikipedia/commons/thumb/2/25/National_Museum_of_the_American_Indian.jpg/450px-National_Museum_of_the_American_Indian.jpg'},\n",
       "  {'image_id': 30388945,\n",
       "   'title': 'Xanadu - futuristic architecture',\n",
       "   'caption': 'Xanadu - futuristic architecture Xanadu House Interior',\n",
       "   'url': 'https://commons.wikimedia.org/wiki/File:Xanadu_-_futuristic_architecture.jpg',\n",
       "   'imgUrl': 'https://upload.wikimedia.org/wikipedia/commons/thumb/1/12/Xanadu_-_futuristic_architecture.jpg/800px-Xanadu_-_futuristic_architecture.jpg'},\n",
       "  {'image_id': 30364890,\n",
       "   'title': 'No Caption. (Monitor \"Saugus\" on the James River, VA.) - NARA - 529196.tif',\n",
       "   'caption': 'No Caption. (Monitor \"Saugus\" on the James River, VA.) - NARA - 529196.tif',\n",
       "   'url': 'https://commons.wikimedia.org/wiki/File:No_Caption._(Monitor_%22Saugus%22_on_the_James_River%2C_VA.)_-_NARA_-_529196.tif',\n",
       "   'imgUrl': 'https://upload.wikimedia.org/wikipedia/commons/thumb/c/c3/No_Caption._(Monitor_%22Saugus%22_on_the_James_River%2C_VA.)_-_NARA_-_529196.tif/lossy-page1-1200px-No_Caption._(Monitor_%22Saugus%22_on_the_James_River%2C_VA.)_-_NARA_-_529196.tif.jpg'},\n",
       "  {'image_id': 30199172,\n",
       "   'title': 'Replica of a 18th century baking oven, Kleinplasie Open Air Agricultural Museum and Show Grounds, Worcester, South Africa 01',\n",
       "   'caption': 'Replica of a 18th century baking oven, Kleinplasie Open Air Agricultural Museum and Show Grounds, Worcester, South Africa 01 Replica of a 18th century outdoor baking oven typical of early Cape homesteads. Made of clay and bricks.',\n",
       "   'url': 'https://commons.wikimedia.org/wiki/File:Replica_of_a_18th_century_baking_oven%2C_Kleinplasie_Open_Air_Agricultural_Museum_and_Show_Grounds%2C_Worcester%2C_South_Africa_01.jpg',\n",
       "   'imgUrl': 'https://upload.wikimedia.org/wikipedia/commons/thumb/6/65/Replica_of_a_18th_century_baking_oven%2C_Kleinplasie_Open_Air_Agricultural_Museum_and_Show_Grounds%2C_Worcester%2C_South_Africa_01.jpg/640px-Replica_of_a_18th_century_baking_oven%2C_Kleinplasie_Open_Air_Agricultural_Museum_and_Show_Grounds%2C_Worcester%2C_South_Africa_01.jpg'},\n",
       "  {'image_id': 30264287,\n",
       "   'title': 'ChapelOfSainPaul night Damascus Syria',\n",
       "   'caption': 'ChapelOfSainPaul night Damascus Syria Chapel of Saint Paul by night, Damascus, Syria.',\n",
       "   'url': 'https://commons.wikimedia.org/wiki/File:ChapelOfSainPaul_night_Damascus_Syria.jpg',\n",
       "   'imgUrl': 'https://upload.wikimedia.org/wikipedia/commons/6/6b/ChapelOfSainPaul_night_Damascus_Syria.jpg'},\n",
       "  {'image_id': 30111789,\n",
       "   'title': 'Richterin talo, Turku. Kuvaaja HJ. Renvall 1914, arkisto Turun museokeskus.',\n",
       "   'caption': 'Richterin talo, Turku. Kuvaaja HJ. Renvall 1914, arkisto Turun museokeskus. Turku, Finland.',\n",
       "   'url': 'https://commons.wikimedia.org/wiki/File:Richterin_talo%2C_Turku._Kuvaaja_HJ._Renvall_1914%2C_arkisto_Turun_museokeskus..jpg',\n",
       "   'imgUrl': 'https://upload.wikimedia.org/wikipedia/commons/thumb/1/1c/Richterin_talo%2C_Turku._Kuvaaja_HJ._Renvall_1914%2C_arkisto_Turun_museokeskus..jpg/800px-Richterin_talo%2C_Turku._Kuvaaja_HJ._Renvall_1914%2C_arkisto_Turun_museokeskus..jpg'},\n",
       "  {'image_id': 30272499,\n",
       "   'title': 'Centennial Hangar, Wright Brothers National Memorial, Kill Devil Hills, North Carolina (14443981511)',\n",
       "   'caption': 'Centennial Hangar, Wright Brothers National Memorial, Kill Devil Hills, North Carolina (14443981511)',\n",
       "   'url': 'https://commons.wikimedia.org/wiki/File:Centennial_Hangar%2C_Wright_Brothers_National_Memorial%2C_Kill_Devil_Hills%2C_North_Carolina_(14443981511).jpg',\n",
       "   'imgUrl': 'https://upload.wikimedia.org/wikipedia/commons/thumb/c/ca/Centennial_Hangar%2C_Wright_Brothers_National_Memorial%2C_Kill_Devil_Hills%2C_North_Carolina_(14443981511).jpg/1200px-Centennial_Hangar%2C_Wright_Brothers_National_Memorial%2C_Kill_Devil_Hills%2C_North_Carolina_(14443981511).jpg'},\n",
       "  {'image_id': 30281363,\n",
       "   'title': '京華城百貨公司 Core Pacific City Co., Ltd. - panoramio - Tianmu peter (3)',\n",
       "   'caption': '京華城百貨公司 Core Pacific City Co., Ltd. - panoramio - Tianmu peter (3)',\n",
       "   'url': 'https://commons.wikimedia.org/wiki/File:%E4%BA%AC%E8%8F%AF%E5%9F%8E%E7%99%BE%E8%B2%A8%E5%85%AC%E5%8F%B8_Core_Pacific_City_Co.%2C_Ltd._-_panoramio_-_Tianmu_peter_(3).jpg',\n",
       "   'imgUrl': 'https://upload.wikimedia.org/wikipedia/commons/thumb/4/45/%E4%BA%AC%E8%8F%AF%E5%9F%8E%E7%99%BE%E8%B2%A8%E5%85%AC%E5%8F%B8_Core_Pacific_City_Co.%2C_Ltd._-_panoramio_-_Tianmu_peter_(3).jpg/1200px-%E4%BA%AC%E8%8F%AF%E5%9F%8E%E7%99%BE%E8%B2%A8%E5%85%AC%E5%8F%B8_Core_Pacific_City_Co.%2C_Ltd._-_panoramio_-_Tianmu_peter_(3).jpg'},\n",
       "  {'image_id': 30005083,\n",
       "   'title': 'Exterior view of the Andrew McNally residence from a path and archway, Altadena, ca.1900 (CHS-260)',\n",
       "   'caption': 'Exterior view of the Andrew McNally residence from a path and archway, Altadena, ca.1900 (CHS-260) Exterior view of the Andrew McNally residence from a path and archway, Altadena, ca.1900',\n",
       "   'url': 'https://commons.wikimedia.org/wiki/File:Exterior_view_of_the_Andrew_McNally_residence_from_a_path_and_archway%2C_Altadena%2C_ca.1900_(CHS-260).jpg',\n",
       "   'imgUrl': 'https://upload.wikimedia.org/wikipedia/commons/thumb/a/ae/Exterior_view_of_the_Andrew_McNally_residence_from_a_path_and_archway%2C_Altadena%2C_ca.1900_(CHS-260).jpg/1200px-Exterior_view_of_the_Andrew_McNally_residence_from_a_path_and_archway%2C_Altadena%2C_ca.1900_(CHS-260).jpg'},\n",
       "  {'image_id': 30240273,\n",
       "   'title': 'Recherswil Isler-Schale 02 09',\n",
       "   'caption': 'Recherswil Isler-Schale 02 09 Isler shell, concrete dome roof of a building of the former company Kilcher in Recherswil, built 1965; Solothurn, Switzerland.',\n",
       "   'url': 'https://commons.wikimedia.org/wiki/File:Recherswil_Isler-Schale_02_09.jpg',\n",
       "   'imgUrl': 'https://upload.wikimedia.org/wikipedia/commons/thumb/9/98/Recherswil_Isler-Schale_02_09.jpg/640px-Recherswil_Isler-Schale_02_09.jpg'},\n",
       "  {'image_id': 30202982,\n",
       "   'title': 'Brentwood, Los Angeles, CA 90049, USA - panoramio (11)',\n",
       "   'caption': 'Brentwood, Los Angeles, CA 90049, USA - panoramio (11)',\n",
       "   'url': 'https://commons.wikimedia.org/wiki/File:Brentwood%2C_Los_Angeles%2C_CA_90049%2C_USA_-_panoramio_%2811%29.jpg',\n",
       "   'imgUrl': 'https://upload.wikimedia.org/wikipedia/commons/thumb/2/24/Brentwood%2C_Los_Angeles%2C_CA_90049%2C_USA_-_panoramio_%2811%29.jpg/1024px-Brentwood%2C_Los_Angeles%2C_CA_90049%2C_USA_-_panoramio_%2811%29.jpg'},\n",
       "  {'image_id': 30059273,\n",
       "   'title': 'Arheo Muz SK (4)',\n",
       "   'caption': 'Arheo Muz SK (4)  Archeological Museum of Macedonia in Skopje, Macedonia',\n",
       "   'url': 'https://commons.wikimedia.org/wiki/File:Arheo_Muz_SK_(4).JPG',\n",
       "   'imgUrl': 'https://upload.wikimedia.org/wikipedia/commons/thumb/2/24/Arheo_Muz_SK_(4).JPG/1200px-Arheo_Muz_SK_(4).JPG'},\n",
       "  {'image_id': 30248590,\n",
       "   'title': 'LGI Brotherton Wing 002',\n",
       "   'caption': 'LGI Brotherton Wing 002 Balconies at the Southern end of the Brotherton Wing at the Leeds General Infirmary. Taken on the afternoon of Saturday the 3rd of October 2009.',\n",
       "   'url': 'https://commons.wikimedia.org/wiki/File:LGI_Brotherton_Wing_002.jpg',\n",
       "   'imgUrl': 'https://upload.wikimedia.org/wikipedia/commons/thumb/d/df/LGI_Brotherton_Wing_002.jpg/450px-LGI_Brotherton_Wing_002.jpg'},\n",
       "  {'image_id': 30146167,\n",
       "   'title': 'Homage to Kaiser Leopold I on August 7, 1658, by Ruprecht Hauer, 1658, oil on canvas - Stadtmuseum Fembohaus - Nuremberg, Germany - DSC02050',\n",
       "   'caption': 'Homage to Kaiser Leopold I on August 7, 1658, by Ruprecht Hauer, 1658, oil on canvas - Stadtmuseum Fembohaus - Nuremberg, Germany - DSC02050 Exhibit in the Stadtmuseum Fembohaus - Nuremberg, Germany.',\n",
       "   'url': 'https://commons.wikimedia.org/wiki/File:Homage_to_Kaiser_Leopold_I_on_August_7%2C_1658%2C_by_Ruprecht_Hauer%2C_1658%2C_oil_on_canvas_-_Stadtmuseum_Fembohaus_-_Nuremberg%2C_Germany_-_DSC02050.jpg',\n",
       "   'imgUrl': 'https://upload.wikimedia.org/wikipedia/commons/e/ef/Homage_to_Kaiser_Leopold_I_on_August_7%2C_1658%2C_by_Ruprecht_Hauer%2C_1658%2C_oil_on_canvas_-_Stadtmuseum_Fembohaus_-_Nuremberg%2C_Germany_-_DSC02050.jpg'},\n",
       "  {'image_id': 30038588,\n",
       "   'title': 'Jonesboro, AR 013',\n",
       "   'caption': 'Jonesboro, AR 013 Anchor from a former battleship on courthouse grounds',\n",
       "   'url': 'https://commons.wikimedia.org/wiki/File:Jonesboro%2C_AR_013.jpg',\n",
       "   'imgUrl': 'https://upload.wikimedia.org/wikipedia/commons/thumb/f/f8/Jonesboro%2C_AR_013.jpg/1200px-Jonesboro%2C_AR_013.jpg'},\n",
       "  {'image_id': 30220639,\n",
       "   'title': 'Academy of sciences canberra ACT',\n",
       "   'caption': 'Academy of sciences canberra ACT Shine Dome of the Australian Academy of Science at Canberra ACT. I took the photo',\n",
       "   'url': 'https://commons.wikimedia.org/wiki/File:Academy_of_sciences_canberra_ACT.jpg',\n",
       "   'imgUrl': 'http://upload.wikimedia.org/wikipedia/commons/3/3a/Academy_of_sciences_canberra_ACT.jpg'}],\n",
       " 'txt_negFacts': [{'title': 'Xanadu Houses',\n",
       "   'fact': 'Construction of the Xanadu house in Kissimmee, Florida, began with the pouring of a concrete slab base and the erection of a tension ring 40 feet (12 m) in diameter to anchor the domed roof of what would become the \"Great Room\" of the house.',\n",
       "   'url': 'https://en.wikipedia.org/wiki/Xanadu_Houses',\n",
       "   'snippet_id': 'd5bbc6d80dba11ecb1e81171463288e9_6'},\n",
       "  {'title': 'Xanadu Houses',\n",
       "   'fact': 'The Xanadu house in Kissimmee, Florida used an automated system controlled by Commodore microcomputers. The house had fifteen rooms; of these the kitchen, party room, health spa, and bedrooms all used computers and other electronic equipment heavily in their design.',\n",
       "   'url': 'https://en.wikipedia.org/wiki/Xanadu_Houses',\n",
       "   'snippet_id': 'd5bbc6d80dba11ecb1e81171463288e9_7'},\n",
       "  {'title': 'Booker T. Washington',\n",
       "   'fact': \"In 1946, he was honored on the first coin to feature an African American, the Booker T. Washington Memorial Half Dollar, which was minted by the United States until 1951.On April 5, 1956, the hundredth anniversary of Washington's birth, the house where he was born in Franklin County, Virginia, was designated as the Booker T. Washington National Monument.\",\n",
       "   'url': 'https://en.wikipedia.org/wiki/Booker_T._Washington',\n",
       "   'snippet_id': 'd5bbc6d80dba11ecb1e81171463288e9_13'},\n",
       "  {'title': 'National Building Museum',\n",
       "   'fact': 'The National Building Museum is located at 401 F Street NW in Washington, D.C.   It is a museum of \"architecture, design, engineering, construction, and urban planning\".',\n",
       "   'url': 'https://en.wikipedia.org/wiki/National_Building_Museum',\n",
       "   'snippet_id': 'd5bbc6d80dba11ecb1e81171463288e9_14'},\n",
       "  {'title': 'National Air and Space Museum',\n",
       "   'fact': \"The National Air and Space Museum of the Smithsonian Institution, also called the Air and Space Museum, is a museum in Washington, D.C., US. It was established in 1946 as the National Air Museum and opened its main building on the National Mall near L'Enfant Plaza in 1976.\",\n",
       "   'url': 'https://en.wikipedia.org/wiki/National_Air_and_Space_Museum',\n",
       "   'snippet_id': 'd5bbc6d80dba11ecb1e81171463288e9_11'},\n",
       "  {'title': 'Native Americans in the United States',\n",
       "   'fact': 'Most American Indians are comfortable with Indian, American Indian, and Native American. That term is reflected in the name chosen for the National Museum of the American Indian, which opened in 2004 on the Mall in Washington, DC.',\n",
       "   'url': 'https://en.wikipedia.org/wiki/Native_Americans_in_the_United_States',\n",
       "   'snippet_id': 'd5bbc6d80dba11ecb1e81171463288e9_12'},\n",
       "  {'title': 'National Air and Space Museum',\n",
       "   'fact': 'The National Air and Space Museum of the Smithsonian Institution, also called the Air and Space Museum, is a museum in Washington, D.C., US.',\n",
       "   'url': 'https://en.wikipedia.org/wiki/National_Air_and_Space_Museum',\n",
       "   'snippet_id': 'd5bbc6d80dba11ecb1e81171463288e9_1'},\n",
       "  {'title': 'Xanadu Houses',\n",
       "   'fact': 'The interior of the house was cave-like, featuring cramped rooms and low ceilings, although it is not clear whether these accounts describe the same Xanadu House with a thirty-foot dome. The interiors used a cream color for the walls, and a pale green for the floor.',\n",
       "   'url': 'https://en.wikipedia.org/wiki/Xanadu_Houses',\n",
       "   'snippet_id': 'd5bbc6d80dba11ecb1e81171463288e9_9'},\n",
       "  {'title': 'The Washington Post',\n",
       "   'fact': 'The Washington Post (also known as the Post and, informally, WaPo) is an American daily newspaper published in Washington, D.C. It is the most-widely circulated newspaper within the Washington metropolitan area, and has a large national audience.',\n",
       "   'url': 'https://en.wikipedia.org/wiki/The_Washington_Post',\n",
       "   'snippet_id': 'd5bbc6d80dba11ecb1e81171463288e9_2'},\n",
       "  {'title': 'Native Americans in the United States',\n",
       "   'fact': 'That term is reflected in the name chosen for the National Museum of the American Indian, which opened in 2004 on the Mall in Washington, DC.',\n",
       "   'url': 'https://en.wikipedia.org/wiki/Native_Americans_in_the_United_States',\n",
       "   'snippet_id': 'd5bbc6d80dba11ecb1e81171463288e9_15'},\n",
       "  {'title': 'Washington, D.C.',\n",
       "   'fact': \"The Smithsonian American Art Museum and the National Portrait Gallery are housed in the Old Patent Office Building, near Washington's Chinatown. The Renwick Gallery is officially part of the Smithsonian American Art Museum but is in a separate building near the White House.\",\n",
       "   'url': 'https://en.wikipedia.org/wiki/Washington,_D.C.',\n",
       "   'snippet_id': 'd5bbc6d80dba11ecb1e81171463288e9_5'},\n",
       "  {'title': 'Xanadu Houses',\n",
       "   'fact': 'It had at least two entrances, and large porthole-type windows. The interior of the house was cave-like, featuring cramped rooms and low ceilings, although it is not clear whether these accounts describe the same Xanadu House with a thirty-foot dome.',\n",
       "   'url': 'https://en.wikipedia.org/wiki/Xanadu_Houses',\n",
       "   'snippet_id': 'd5bbc6d80dba11ecb1e81171463288e9_10'},\n",
       "  {'title': 'History of American Indian schools',\n",
       "   'fact': 'Investigations of the later twentieth century have revealed many documented cases of sexual, manual, physical and mental abuse occurring mostly in church-run schools. The National Museum of the American Indian also notes that some students had good memories of their school days, having learned skills and made lifelong friends.',\n",
       "   'url': 'https://en.wikipedia.org/wiki/History_of_American_Indian_schools',\n",
       "   'snippet_id': 'd5bbc6d80dba11ecb1e81171463288e9_8'},\n",
       "  {'title': 'National Building Museum',\n",
       "   'fact': \"The building itself was formally renamed the National Building Museum in 1997.Every year, the annual Christmas in Washington program was filmed at the museum, with the President and First Lady until the show's cancellation in 2015.\",\n",
       "   'url': 'https://en.wikipedia.org/wiki/National_Building_Museum',\n",
       "   'snippet_id': 'd5bbc6d80dba11ecb1e81171463288e9_3'},\n",
       "  {'title': 'Washington, D.C.',\n",
       "   'fact': 'The Renwick Gallery is officially part of the Smithsonian American Art Museum but is in a separate building near the White House. Other Smithsonian museums and galleries include: the Anacostia Community Museum in Southeast Washington; the National Postal Museum near Union Station; and the National Zoo in Woodley Park.',\n",
       "   'url': 'https://en.wikipedia.org/wiki/Washington,_D.C.',\n",
       "   'snippet_id': 'd5bbc6d80dba11ecb1e81171463288e9_0'},\n",
       "  {'title': 'Xanadu Houses',\n",
       "   'fact': 'The interior of the house was cave-like, featuring cramped rooms and low ceilings, although it is not clear whether these accounts describe the same Xanadu House with a thirty-foot dome.',\n",
       "   'url': 'https://en.wikipedia.org/wiki/Xanadu_Houses',\n",
       "   'snippet_id': 'd5bbc6d80dba11ecb1e81171463288e9_4'}],\n",
       " 'txt_posFacts': []}"
      ]
     },
     "execution_count": 34,
     "metadata": {},
     "output_type": "execute_result"
    }
   ],
   "source": [
    "train_data['d5bbc6d80dba11ecb1e81171463288e9']"
   ]
  },
  {
   "cell_type": "code",
   "execution_count": 38,
   "id": "fe19ee1b-2bab-4027-9e4e-f3b1cc294c0e",
   "metadata": {},
   "outputs": [],
   "source": [
    "# load mapping condition\n",
    "mapping = '../../newqa/WebQA_Baseline/misc/image_id_map_0328.pkl'\n",
    "import pickle\n",
    "with open(mapping, 'rb') as f:\n",
    "    img2featid = pickle.load(f)"
   ]
  },
  {
   "cell_type": "code",
   "execution_count": 51,
   "id": "42b23638-0d33-47b2-b322-cf8d26c929f2",
   "metadata": {},
   "outputs": [
    {
     "name": "stderr",
     "output_type": "stream",
     "text": [
      "100%|██████████| 41732/41732 [00:06<00:00, 6032.74it/s]\n"
     ]
    }
   ],
   "source": [
    "from tqdm import tqdm\n",
    "import os\n",
    "bad_pos_sources = []\n",
    "bad_neg_sources = []\n",
    "total_count = 0\n",
    "health_webqa = {}\n",
    "for k in tqdm(train_data):\n",
    "\n",
    "    posCount = negCount = 0\n",
    "    for imgdir in train_data[k]['img_posFacts']:\n",
    "        imgpath = ('/ocean/projects/cis210027p/shared/corpora/webqa/%s/%s.pkl'%(train_data[k]['split'], img2featid[imgdir['image_id']])).replace('val','dev')\n",
    "        if os.path.exists(imgpath):\n",
    "            posCount += 1\n",
    "    for imgdir in train_data[k]['img_negFacts']:\n",
    "        imgpath = ('/ocean/projects/cis210027p/shared/corpora/webqa/%s/%s.pkl'%(train_data[k]['split'], img2featid[imgdir['image_id']])).replace('val','dev')\n",
    "        if os.path.exists(imgpath):\n",
    "            negCount += 1\n",
    "    # if posCount < 2:\n",
    "    #     bad_pos_sources.append(k)\n",
    "    # if not negCount:\n",
    "    #     bad_neg_sources.append(k)\n",
    "    if posCount > 0 and negCount > 0:\n",
    "        total_count += 1\n",
    "        health_webqa[k] = train_data[k]"
   ]
  },
  {
   "cell_type": "code",
   "execution_count": 52,
   "id": "bfefba02-7e75-458d-b8c0-76718b3408f1",
   "metadata": {},
   "outputs": [
    {
     "data": {
      "text/plain": [
       "15920"
      ]
     },
     "execution_count": 52,
     "metadata": {},
     "output_type": "execute_result"
    }
   ],
   "source": [
    "total_count"
   ]
  },
  {
   "cell_type": "code",
   "execution_count": 53,
   "id": "3ba49ca4-f75e-4f42-ae5a-d8de9c0a4d7a",
   "metadata": {},
   "outputs": [
    {
     "data": {
      "text/plain": [
       "15920"
      ]
     },
     "execution_count": 53,
     "metadata": {},
     "output_type": "execute_result"
    }
   ],
   "source": [
    "len(health_webqa)"
   ]
  },
  {
   "cell_type": "code",
   "execution_count": 47,
   "id": "b339f6f3-9469-46a7-8072-17e14381cea5",
   "metadata": {},
   "outputs": [
    {
     "data": {
      "text/plain": [
       "1946"
      ]
     },
     "execution_count": 47,
     "metadata": {},
     "output_type": "execute_result"
    }
   ],
   "source": [
    "len(bad_neg_sources)"
   ]
  },
  {
   "cell_type": "code",
   "execution_count": 48,
   "id": "2c48809c-12b3-4fd8-8647-5c1e80927dd9",
   "metadata": {},
   "outputs": [
    {
     "data": {
      "text/plain": [
       "37207"
      ]
     },
     "execution_count": 48,
     "metadata": {},
     "output_type": "execute_result"
    }
   ],
   "source": [
    "len(bad_pos_sources)"
   ]
  },
  {
   "cell_type": "code",
   "execution_count": 32,
   "id": "ce13ee43-32e7-45c9-9b0d-a72e7230bb28",
   "metadata": {},
   "outputs": [
    {
     "data": {
      "text/plain": [
       "41732"
      ]
     },
     "execution_count": 32,
     "metadata": {},
     "output_type": "execute_result"
    }
   ],
   "source": [
    "len(bad_neg_sources)"
   ]
  },
  {
   "cell_type": "markdown",
   "id": "0edd755c-4803-48bb-ba4a-83f8c7f6996f",
   "metadata": {},
   "source": [
    "### Todos\n",
    "- [x] category statistics\n",
    "- [x] making up subset"
   ]
  },
  {
   "cell_type": "markdown",
   "id": "63088c10-9b7b-4378-bf11-4bce4de2baa5",
   "metadata": {},
   "source": [
    "#### Category Statistics"
   ]
  },
  {
   "cell_type": "code",
   "execution_count": 11,
   "id": "1c32ec05-fe1b-4ec3-b757-b382ed98a36c",
   "metadata": {},
   "outputs": [
    {
     "data": {
      "text/plain": [
       "41732"
      ]
     },
     "execution_count": 11,
     "metadata": {},
     "output_type": "execute_result"
    }
   ],
   "source": [
    "len(train_data)"
   ]
  },
  {
   "cell_type": "code",
   "execution_count": 71,
   "id": "ac96167c-0665-4310-8868-1b4ad62e4d1b",
   "metadata": {},
   "outputs": [],
   "source": [
    "qcate2count = dict(Counter([health_webqa[k]['Qcate'] for k in health_webqa]))\n",
    "# del qcate2count['text']"
   ]
  },
  {
   "cell_type": "code",
   "execution_count": 72,
   "id": "7c5a082b-836b-4f08-bd6c-2e17f05b2859",
   "metadata": {},
   "outputs": [
    {
     "data": {
      "text/plain": [
       "{'YesNo': 5775,\n",
       " 'Others': 3798,\n",
       " 'color': 1280,\n",
       " 'choose': 3311,\n",
       " 'shape': 390,\n",
       " 'number': 1366}"
      ]
     },
     "execution_count": 72,
     "metadata": {},
     "output_type": "execute_result"
    }
   ],
   "source": [
    "qcate2count"
   ]
  },
  {
   "cell_type": "code",
   "execution_count": 56,
   "id": "7fc60df2-9f8e-4008-9353-5301eecefc91",
   "metadata": {},
   "outputs": [],
   "source": [
    "counts = qcate2count.values()\n",
    "ratios = [count/sum(counts) for count in counts]\n",
    "qcate2ratio = dict(zip(list(qcate2count.keys()), ratios))"
   ]
  },
  {
   "cell_type": "code",
   "execution_count": 57,
   "id": "bd65f29b-de14-4c07-977c-d61d75c396fc",
   "metadata": {},
   "outputs": [
    {
     "data": {
      "text/plain": [
       "{'YesNo': 0.36275125628140703,\n",
       " 'Others': 0.2385678391959799,\n",
       " 'color': 0.08040201005025126,\n",
       " 'choose': 0.20797738693467338,\n",
       " 'shape': 0.024497487437185928,\n",
       " 'number': 0.08580402010050252}"
      ]
     },
     "execution_count": 57,
     "metadata": {},
     "output_type": "execute_result"
    }
   ],
   "source": [
    "\n",
    "qcate2ratio"
   ]
  },
  {
   "cell_type": "code",
   "execution_count": 24,
   "id": "87c6ac2f-2df9-47b5-aede-f5b9563c6df9",
   "metadata": {},
   "outputs": [],
   "source": [
    "subsetSize = 10000\n",
    "qcate2hc = {qcate:int(subsetSize*ratio) for (qcate,ratio) in qcate2ratio.items()}"
   ]
  },
  {
   "cell_type": "code",
   "execution_count": 58,
   "id": "bb6c80c4-4561-4be0-841b-8c32061bdd10",
   "metadata": {},
   "outputs": [],
   "source": [
    "qcate2hc = {'YesNo':2500, 'Others':2000, 'number':1500, 'color':1500, 'choose':2000, 'shape':1000}"
   ]
  },
  {
   "cell_type": "code",
   "execution_count": 59,
   "id": "d2ed5e45-c12a-4d0b-8bf9-af9d26c20451",
   "metadata": {},
   "outputs": [
    {
     "name": "stderr",
     "output_type": "stream",
     "text": [
      "100%|██████████| 15920/15920 [00:00<00:00, 932510.12it/s]\n"
     ]
    }
   ],
   "source": [
    "subWebqa = {}\n",
    "import collections\n",
    "from tqdm import tqdm\n",
    "qcate2items = collections.defaultdict(list)\n",
    "for k in tqdm(health_webqa):\n",
    "    if health_webqa[k]['Qcate'] in qcate2hc:\n",
    "        qcate2items[health_webqa[k]['Qcate']].append((k, health_webqa[k]))\n",
    "from random import shuffle\n"
   ]
  },
  {
   "cell_type": "code",
   "execution_count": 60,
   "id": "90277b1e-ba84-41ef-b0c3-fdfcb73ab167",
   "metadata": {},
   "outputs": [
    {
     "data": {
      "text/plain": [
       "{'YesNo': 2500,\n",
       " 'Others': 2000,\n",
       " 'number': 1500,\n",
       " 'color': 1500,\n",
       " 'choose': 2000,\n",
       " 'shape': 1000}"
      ]
     },
     "execution_count": 60,
     "metadata": {},
     "output_type": "execute_result"
    }
   ],
   "source": [
    "qcate2hc"
   ]
  },
  {
   "cell_type": "code",
   "execution_count": 64,
   "id": "e98e7151-2800-4765-bb8d-d66281bec9c8",
   "metadata": {},
   "outputs": [
    {
     "name": "stdout",
     "output_type": "stream",
     "text": [
      "2500\n",
      "2000\n",
      "1280\n",
      "2000\n",
      "390\n",
      "1366\n"
     ]
    }
   ],
   "source": [
    "import random\n",
    "random.seed(11777)\n",
    "for qcate in qcate2items:\n",
    "    currPoolChoices = random.sample(qcate2items[qcate], min(len(qcate2items[qcate]), qcate2hc[qcate]))\n",
    "    print(len(currPoolChoices))\n",
    "    for k, v in currPoolChoices:\n",
    "        subWebqa[k] = v"
   ]
  },
  {
   "cell_type": "code",
   "execution_count": 62,
   "id": "1de6ef53-add4-4b8f-b88b-ce01a902495d",
   "metadata": {},
   "outputs": [
    {
     "data": {
      "text/plain": [
       "9536"
      ]
     },
     "execution_count": 62,
     "metadata": {},
     "output_type": "execute_result"
    }
   ],
   "source": [
    "len(subWebqa)"
   ]
  },
  {
   "cell_type": "code",
   "execution_count": 63,
   "id": "02d64cab-506f-410b-9a6f-9541bc716f36",
   "metadata": {},
   "outputs": [
    {
     "name": "stdout",
     "output_type": "stream",
     "text": [
      "Counter({'train': 8231, 'val': 1305})\n",
      "9536\n",
      "Counter({'YesNo': 2500, 'Others': 2000, 'choose': 2000, 'number': 1366, 'color': 1280, 'shape': 390})\n"
     ]
    }
   ],
   "source": [
    "print(Counter([subWebqa[k]['split'] for k in subWebqa]))\n",
    "print(len(set([subWebqa[k]['Guid'] for k in subWebqa])))\n",
    "print(Counter([subWebqa[k]['Qcate'] for k in subWebqa]))"
   ]
  },
  {
   "cell_type": "code",
   "execution_count": 49,
   "id": "89c83fa6-c65f-49be-9550-993f96bf29ad",
   "metadata": {},
   "outputs": [
    {
     "data": {
      "text/plain": [
       "2000"
      ]
     },
     "execution_count": 49,
     "metadata": {},
     "output_type": "execute_result"
    }
   ],
   "source": [
    "len(random.choices(qcate2items['YesNo'], k = 2000))"
   ]
  },
  {
   "cell_type": "markdown",
   "id": "d067dd4b-f171-4b56-a448-75808f6fa1f1",
   "metadata": {},
   "source": [
    "#### Make test_data subset"
   ]
  },
  {
   "cell_type": "code",
   "execution_count": 104,
   "id": "6003364a-db73-41a5-9f6b-4c5e7a8235c1",
   "metadata": {},
   "outputs": [
    {
     "ename": "KeyError",
     "evalue": "'Qcate'",
     "output_type": "error",
     "traceback": [
      "\u001b[0;31m---------------------------------------------------------------------------\u001b[0m",
      "\u001b[0;31mKeyError\u001b[0m                                  Traceback (most recent call last)",
      "Cell \u001b[0;32mIn [104], line 1\u001b[0m\n\u001b[0;32m----> 1\u001b[0m test_qcate2count \u001b[38;5;241m=\u001b[39m \u001b[38;5;28mdict\u001b[39m(Counter([test_data[k][\u001b[38;5;124m'\u001b[39m\u001b[38;5;124mQcate\u001b[39m\u001b[38;5;124m'\u001b[39m] \u001b[38;5;28;01mfor\u001b[39;00m k \u001b[38;5;129;01min\u001b[39;00m test_data]))\n",
      "Cell \u001b[0;32mIn [104], line 1\u001b[0m, in \u001b[0;36m<listcomp>\u001b[0;34m(.0)\u001b[0m\n\u001b[0;32m----> 1\u001b[0m test_qcate2count \u001b[38;5;241m=\u001b[39m \u001b[38;5;28mdict\u001b[39m(Counter([\u001b[43mtest_data\u001b[49m\u001b[43m[\u001b[49m\u001b[43mk\u001b[49m\u001b[43m]\u001b[49m\u001b[43m[\u001b[49m\u001b[38;5;124;43m'\u001b[39;49m\u001b[38;5;124;43mQcate\u001b[39;49m\u001b[38;5;124;43m'\u001b[39;49m\u001b[43m]\u001b[49m \u001b[38;5;28;01mfor\u001b[39;00m k \u001b[38;5;129;01min\u001b[39;00m test_data]))\n",
      "\u001b[0;31mKeyError\u001b[0m: 'Qcate'"
     ]
    }
   ],
   "source": [
    "test_qcate2count = dict(Counter([test_data[k]['Qcate'] for k in test_data]))\n",
    "# del test_qcate2count['text']"
   ]
  },
  {
   "cell_type": "code",
   "execution_count": 103,
   "id": "8c49cba6-a4ea-433b-a8bf-53728ea80ded",
   "metadata": {},
   "outputs": [
    {
     "data": {
      "text/plain": [
       "7540"
      ]
     },
     "execution_count": 103,
     "metadata": {},
     "output_type": "execute_result"
    }
   ],
   "source": [
    "len(test_data)"
   ]
  },
  {
   "cell_type": "code",
   "execution_count": 105,
   "id": "a6c309c8-45ef-40d4-89da-9b66d2323509",
   "metadata": {},
   "outputs": [
    {
     "name": "stderr",
     "output_type": "stream",
     "text": [
      "/tmp/ipykernel_92320/2648213638.py:1: DeprecationWarning: Sampling from a set deprecated\n",
      "since Python 3.9 and will be removed in a subsequent version.\n",
      "  testSubWebqa = {k:v for k,v in list(random.sample(healthy_test_Webqa.items() ,1543))}\n"
     ]
    }
   ],
   "source": [
    "testSubWebqa = {k:v for k,v in list(random.sample(healthy_test_Webqa.items() ,1543))}"
   ]
  },
  {
   "cell_type": "code",
   "execution_count": 106,
   "id": "33fb5c7c-423d-4c96-9d2a-7a8f5d426909",
   "metadata": {},
   "outputs": [
    {
     "data": {
      "text/plain": [
       "1543"
      ]
     },
     "execution_count": 106,
     "metadata": {},
     "output_type": "execute_result"
    }
   ],
   "source": [
    "len(testSubWebqa)"
   ]
  },
  {
   "cell_type": "code",
   "execution_count": 71,
   "id": "c5251227-f17b-4b45-9339-9d34e1beaaca",
   "metadata": {},
   "outputs": [],
   "source": [
    "# testSubWebqa['d5c9dd040dba11ecb1e81171463288e9']"
   ]
  },
  {
   "cell_type": "code",
   "execution_count": 72,
   "id": "1c36a379-c01a-4db0-9528-20a4d9771551",
   "metadata": {},
   "outputs": [],
   "source": [
    "# test_data['d5bbc4440dba11ecb1e81171463288e9']"
   ]
  },
  {
   "cell_type": "code",
   "execution_count": 74,
   "id": "f33feacf-ff4a-45e4-8f7b-dbc39bdbc24c",
   "metadata": {},
   "outputs": [],
   "source": [
    "train_subset = {k:v for k,v in subWebqa.items() if subWebqa[k]['split'] == 'train'}\n",
    "valid_subset = {k:v for k,v in subWebqa.items() if subWebqa[k]['split'] == 'val'}"
   ]
  },
  {
   "cell_type": "code",
   "execution_count": 75,
   "id": "6561fcdf-e520-44b8-b967-133429a8c43d",
   "metadata": {},
   "outputs": [
    {
     "data": {
      "text/plain": [
       "8231"
      ]
     },
     "execution_count": 75,
     "metadata": {},
     "output_type": "execute_result"
    }
   ],
   "source": [
    "len(train_subset)"
   ]
  },
  {
   "cell_type": "code",
   "execution_count": 76,
   "id": "1a1b2bd5-cc51-4de8-a883-a88ad5506a7e",
   "metadata": {},
   "outputs": [
    {
     "data": {
      "text/plain": [
       "1305"
      ]
     },
     "execution_count": 76,
     "metadata": {},
     "output_type": "execute_result"
    }
   ],
   "source": [
    "len(valid_subset)"
   ]
  },
  {
   "cell_type": "code",
   "execution_count": 108,
   "id": "61a12f7b-50a8-4e32-ae39-8194f8e702bf",
   "metadata": {},
   "outputs": [
    {
     "data": {
      "text/plain": [
       "1543"
      ]
     },
     "execution_count": 108,
     "metadata": {},
     "output_type": "execute_result"
    }
   ],
   "source": [
    "len(testSubWebqa)"
   ]
  },
  {
   "cell_type": "code",
   "execution_count": 98,
   "id": "2724d770-e33a-4929-9cc7-d81b451b758e",
   "metadata": {},
   "outputs": [],
   "source": [
    "healthy_test_Webqa = {}"
   ]
  },
  {
   "cell_type": "code",
   "execution_count": 99,
   "id": "75bfcc77-044f-4b71-936d-917c9b070857",
   "metadata": {},
   "outputs": [
    {
     "name": "stderr",
     "output_type": "stream",
     "text": [
      "100%|██████████| 7540/7540 [00:01<00:00, 6744.13it/s]\n"
     ]
    }
   ],
   "source": [
    "# choose test json\n",
    "for k in tqdm(test_data):\n",
    "    imgCount = 0\n",
    "    for imgdir in test_data[k]['img_Facts']:\n",
    "        imgpath = ('/ocean/projects/cis210027p/shared/corpora/webqa/%s/%s.pkl'%(test_data[k]['split'], img2featid[imgdir['image_id']]))\n",
    "        if os.path.exists(imgpath):\n",
    "            imgCount += 1\n",
    "    if imgCount > 10:\n",
    "        healthy_test_Webqa[k] = test_data[k]"
   ]
  },
  {
   "cell_type": "code",
   "execution_count": 107,
   "id": "47c264e5-0ec3-43ed-9abb-9156b58e7bd6",
   "metadata": {},
   "outputs": [
    {
     "data": {
      "text/plain": [
       "4710"
      ]
     },
     "execution_count": 107,
     "metadata": {},
     "output_type": "execute_result"
    }
   ],
   "source": [
    "len(healthy_test_Webqa)"
   ]
  },
  {
   "cell_type": "code",
   "execution_count": 77,
   "id": "c2fd8d2a-d0e5-49b4-9849-b822297572c5",
   "metadata": {},
   "outputs": [
    {
     "name": "stdout",
     "output_type": "stream",
     "text": [
      "Counter({'train': 8231})\n",
      "8231\n",
      "Counter({'YesNo': 2179, 'choose': 1721, 'Others': 1705, 'number': 1163, 'color': 1128, 'shape': 335})\n"
     ]
    }
   ],
   "source": [
    "print(Counter([train_subset[k]['split'] for k in train_subset]))\n",
    "print(len(set([train_subset[k]['Guid'] for k in train_subset])))\n",
    "print(Counter([train_subset[k]['Qcate'] for k in train_subset]))"
   ]
  },
  {
   "cell_type": "code",
   "execution_count": 78,
   "id": "5406f207-a23c-4d60-9b9f-6db4b5105142",
   "metadata": {},
   "outputs": [
    {
     "name": "stdout",
     "output_type": "stream",
     "text": [
      "Counter({'val': 1305})\n",
      "1305\n",
      "Counter({'YesNo': 321, 'Others': 295, 'choose': 279, 'number': 203, 'color': 152, 'shape': 55})\n"
     ]
    }
   ],
   "source": [
    "print(Counter([valid_subset[k]['split'] for k in valid_subset]))\n",
    "print(len(set([valid_subset[k]['Guid'] for k in valid_subset])))\n",
    "print(Counter([valid_subset[k]['Qcate'] for k in valid_subset]))"
   ]
  },
  {
   "cell_type": "code",
   "execution_count": 109,
   "id": "71428cbb-6182-4fab-8733-a741bd06e916",
   "metadata": {},
   "outputs": [],
   "source": [
    "with open('../subWebqa/data/train_subWebqa.json','w')as f:\n",
    "    json.dump(train_subset, f)\n",
    "with open('../subWebqa/data/val_subWebqa.json','w') as f:\n",
    "    json.dump(valid_subset, f)\n",
    "with open('../subWebqa/data/test_subWebqa.json','w') as f:\n",
    "    json.dump(testSubWebqa, f)"
   ]
  },
  {
   "cell_type": "code",
   "execution_count": null,
   "id": "6076c4df-5e24-46f3-9f57-138263496200",
   "metadata": {},
   "outputs": [],
   "source": []
  }
 ],
 "metadata": {
  "kernelspec": {
   "display_name": "Python 3 (ipykernel)",
   "language": "python",
   "name": "python3"
  },
  "language_info": {
   "codemirror_mode": {
    "name": "ipython",
    "version": 3
   },
   "file_extension": ".py",
   "mimetype": "text/x-python",
   "name": "python",
   "nbconvert_exporter": "python",
   "pygments_lexer": "ipython3",
   "version": "3.9.12"
  }
 },
 "nbformat": 4,
 "nbformat_minor": 5
}
