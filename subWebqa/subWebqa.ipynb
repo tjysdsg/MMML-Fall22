{
 "cells": [
  {
   "cell_type": "code",
   "execution_count": 37,
   "id": "0c1f1834-8093-4a57-98ed-1af0af13a5b1",
   "metadata": {},
   "outputs": [],
   "source": [
    "import json\n",
    "from collections import Counter"
   ]
  },
  {
   "cell_type": "code",
   "execution_count": 9,
   "id": "9a41fb9d-16c6-4206-8922-1a0abfcd1fc0",
   "metadata": {},
   "outputs": [],
   "source": [
    "json_dir = '../json_data/'\n",
    "with open('../json_data/WebQA_test.json','r') as f:\n",
    "    test_data = json.load(f)\n",
    "with open('../json_data/WebQA_train_val.json','r') as f:\n",
    "    train_data = json.load(f)"
   ]
  },
  {
   "cell_type": "code",
   "execution_count": 10,
   "id": "15dfff69-1497-4170-a50f-7676694f297e",
   "metadata": {},
   "outputs": [
    {
     "name": "stdout",
     "output_type": "stream",
     "text": [
      "Counter({'train': 36766, 'val': 4966})\n",
      "41732\n",
      "Counter({'text': 20267, 'YesNo': 7320, 'Others': 5412, 'choose': 4220, 'number': 2118, 'color': 1830, 'shape': 565})\n"
     ]
    }
   ],
   "source": [
    "print(Counter([train_data[k]['split'] for k in train_data]))\n",
    "print(len(set([train_data[k]['Guid'] for k in train_data])))\n",
    "print(Counter([train_data[k]['Qcate'] for k in train_data]))"
   ]
  },
  {
   "cell_type": "code",
   "execution_count": 4,
   "id": "65e3c542-9a7f-4aea-bce6-17aea469f1f0",
   "metadata": {},
   "outputs": [
    {
     "data": {
      "text/plain": [
       "{'Q': '\"Are both the Original Playboy Mansion and Gage Park High School made of brick?\"',\n",
       " 'A': [''],\n",
       " 'split': 'test',\n",
       " 'Guid': 'd5bbc4440dba11ecb1e81171463288e9',\n",
       " 'txt_Facts': [{'title': 'Gage Park High School',\n",
       "   'fact': 'Gage Park High School opened in 1939. Beginning in the late–1960s, racial tensions grew between black and white students at the school.',\n",
       "   'url': 'https://en.wikipedia.org/wiki/Gage_Park_High_School',\n",
       "   'snippet_id': 'd5bbc4440dba11ecb1e81171463288e9_0'},\n",
       "  {'title': 'Playboy Mansion',\n",
       "   'fact': \"Hefner established the original Playboy Mansion in 1959. It was a 70-room brick and limestone residence in Chicago's Gold Coast, which had been built in 1899.\",\n",
       "   'url': 'https://en.wikipedia.org/wiki/Playboy_Mansion',\n",
       "   'snippet_id': 'd5bbc4440dba11ecb1e81171463288e9_1'},\n",
       "  {'title': 'Chicago Lawn, Chicago',\n",
       "   'fact': 'Most of the community is zoned to Gage Park High School. Some sections are zoned to Harper High School, Hubbard High School, and another high school.',\n",
       "   'url': 'https://en.wikipedia.org/wiki/Chicago_Lawn,_Chicago',\n",
       "   'snippet_id': 'd5bbc4440dba11ecb1e81171463288e9_10'},\n",
       "  {'title': 'Gage Park, Chicago',\n",
       "   'fact': 'Some sections are served by Hubbard, Kelly, Curie, and Solorio high schools. Gage Park High School is located on South Rockwell Street, where 728 students attended during the 2013–2014 school year.',\n",
       "   'url': 'https://en.wikipedia.org/wiki/Gage_Park,_Chicago',\n",
       "   'snippet_id': 'd5bbc4440dba11ecb1e81171463288e9_11'},\n",
       "  {'title': 'Gage Park, Chicago',\n",
       "   'fact': 'Gage Park High School serves most of the community area. Some sections are served by Hubbard, Kelly, Curie, and Solorio high schools.',\n",
       "   'url': 'https://en.wikipedia.org/wiki/Gage_Park,_Chicago',\n",
       "   'snippet_id': 'd5bbc4440dba11ecb1e81171463288e9_12'},\n",
       "  {'title': 'Bill Rasmussen',\n",
       "   'fact': 'Bill Rasmussen was born in Chicago, Illinois where he attended Gage Park High School. He received a scholarship to attend DePauw University in Indiana, where he met his future wife Mickey.',\n",
       "   'url': 'https://en.wikipedia.org/wiki/Bill_Rasmussen',\n",
       "   'snippet_id': 'd5bbc4440dba11ecb1e81171463288e9_13'},\n",
       "  {'title': 'Gage Park High School',\n",
       "   'fact': \"Due to the racial tensions at the school, Gage Park PTA members and community members proposed a plan to shift the school's attendance boundaries which would affect the majority of the school's African-American students (600 in total); sending them to Englewood High School (which was majority Black).\",\n",
       "   'url': 'https://en.wikipedia.org/wiki/Gage_Park_High_School',\n",
       "   'snippet_id': 'd5bbc4440dba11ecb1e81171463288e9_14'},\n",
       "  {'title': 'Gage Park, Chicago',\n",
       "   'fact': 'Adeyanju, who lived in Gage Park from age seven until graduating high school, played for the St. Louis Rams from 2006 to 2010.',\n",
       "   'url': 'https://en.wikipedia.org/wiki/Gage_Park,_Chicago',\n",
       "   'snippet_id': 'd5bbc4440dba11ecb1e81171463288e9_15'},\n",
       "  {'title': 'Gage Park High School',\n",
       "   'fact': \"Gage Park competes in the Chicago Public League (CPL) and is a member of the Illinois High School Association (IHSA). The school's sport teams are named Owls.\",\n",
       "   'url': 'https://en.wikipedia.org/wiki/Gage_Park_High_School',\n",
       "   'snippet_id': 'd5bbc4440dba11ecb1e81171463288e9_2'},\n",
       "  {'title': 'Gage Park, Chicago',\n",
       "   'fact': 'Adeyanju, who lived in Gage Park from birth until graduating high school, played for the University of Wisconsin–Madison Badgers from 2011 to 2014.',\n",
       "   'url': 'https://en.wikipedia.org/wiki/Gage_Park,_Chicago',\n",
       "   'snippet_id': 'd5bbc4440dba11ecb1e81171463288e9_3'},\n",
       "  {'title': 'Gage Park High School',\n",
       "   'fact': 'Gage Park High School is a public 4–year high school located in the Gage Park neighborhood on the south–west side of Chicago, Illinois, United States. Opened in 1939, Gage Park is operated by the Chicago Public Schools district.',\n",
       "   'url': 'https://en.wikipedia.org/wiki/Gage_Park_High_School',\n",
       "   'snippet_id': 'd5bbc4440dba11ecb1e81171463288e9_4'},\n",
       "  {'title': 'Gage Park High School',\n",
       "   'fact': 'Gage Park High School is a public 4–year high school located in the Gage Park neighborhood on the south–west side of Chicago, Illinois, United States.',\n",
       "   'url': 'https://en.wikipedia.org/wiki/Gage_Park_High_School',\n",
       "   'snippet_id': 'd5bbc4440dba11ecb1e81171463288e9_5'},\n",
       "  {'title': 'Chicago Lawn, Chicago',\n",
       "   'fact': 'King himself was hit by a rock. Violence also erupted in the neighborhood when Gage Park High School attempted to integrate after Brown v. Board of Education (1954).',\n",
       "   'url': 'https://en.wikipedia.org/wiki/Chicago_Lawn,_Chicago',\n",
       "   'snippet_id': 'd5bbc4440dba11ecb1e81171463288e9_6'},\n",
       "  {'title': 'Gage Park, Chicago',\n",
       "   'fact': 'Gage Park High School is located on South Rockwell Street, where 728 students attended during the 2013–2014 school year. Of the 728, 96.6% were from low-income households and 18.3% are homeless.',\n",
       "   'url': 'https://en.wikipedia.org/wiki/Gage_Park,_Chicago',\n",
       "   'snippet_id': 'd5bbc4440dba11ecb1e81171463288e9_7'},\n",
       "  {'title': 'List of schools in Chicago Public Schools',\n",
       "   'fact': 'Cooley Vocational High School (1958–1979) - subject of the film Cooley High; the school, located on the 800 block of West Scott Street, closed in 1979 when it was replaced by a newer high school nearby and was eventually razed; the area around the former school was zoned to nearby Lincoln Park High School',\n",
       "   'url': 'https://en.wikipedia.org/wiki/List_of_schools_in_Chicago_Public_Schools',\n",
       "   'snippet_id': 'd5bbc4440dba11ecb1e81171463288e9_8'},\n",
       "  {'title': 'Voise Winters',\n",
       "   'fact': 'During his senior season (1980-1981) at Gage Park High School in Chicago, Winters set an Illinois high school season scoring record which still stands: he averaged 46.7 points per game.',\n",
       "   'url': 'https://en.wikipedia.org/wiki/Voise_Winters',\n",
       "   'snippet_id': 'd5bbc4440dba11ecb1e81171463288e9_9'}],\n",
       " 'img_Facts': [{'image_id': 30033617,\n",
       "   'title': 'Hall Park Academy Exterior',\n",
       "   'caption': 'Hall Park Academy Exterior Photograph of the exterior of Hall Park Academy showing the main reception area and part of the school building.',\n",
       "   'url': 'https://commons.wikimedia.org/wiki/File:Hall_Park_Academy_Exterior.jpg',\n",
       "   'imgUrl': 'https://upload.wikimedia.org/wikipedia/commons/thumb/3/39/Hall_Park_Academy_Exterior.jpg/800px-Hall_Park_Academy_Exterior.jpg'},\n",
       "  {'image_id': 30090059,\n",
       "   'title': 'The Original Playboy Mansion',\n",
       "   'caption': 'The Original Playboy Mansion 1340 N State Pkwy Chicago, IL 60610',\n",
       "   'url': 'https://commons.wikimedia.org/wiki/File:The_Original_Playboy_Mansion.jpg',\n",
       "   'imgUrl': 'https://upload.wikimedia.org/wikipedia/commons/thumb/1/14/The_Original_Playboy_Mansion.jpg/800px-The_Original_Playboy_Mansion.jpg'},\n",
       "  {'image_id': 30101667,\n",
       "   'title': 'Moorside High School, Cellarhead - geograph.org.uk - 340365',\n",
       "   'caption': 'Moorside High School, Cellarhead - geograph.org.uk - 340365 Moorside High School, Cellarhead Moorside High School is based in Cellarhead, Werrington. It has around 800 students aged between 11-18.',\n",
       "   'url': 'https://commons.wikimedia.org/wiki/File:Moorside_High_School%2C_Cellarhead_-_geograph.org.uk_-_340365.jpg',\n",
       "   'imgUrl': 'https://upload.wikimedia.org/wikipedia/commons/d/d8/Moorside_High_School%2C_Cellarhead_-_geograph.org.uk_-_340365.jpg'},\n",
       "  {'image_id': 30114213,\n",
       "   'title': 'Joe Beck 1977',\n",
       "   'caption': 'Joe Beck 1977',\n",
       "   'url': 'https://commons.wikimedia.org/wiki/File:Joe_Beck_1977.JPG',\n",
       "   'imgUrl': 'https://upload.wikimedia.org/wikipedia/commons/thumb/7/75/Joe_Beck_1977.JPG/393px-Joe_Beck_1977.JPG'},\n",
       "  {'image_id': 30136727,\n",
       "   'title': 'Yemen man',\n",
       "   'caption': 'Yemen man',\n",
       "   'url': 'https://commons.wikimedia.org/wiki/File:Yemen_man.jpg',\n",
       "   'imgUrl': 'https://upload.wikimedia.org/wikipedia/commons/c/ca/Yemen_man.jpg'},\n",
       "  {'image_id': 30146829,\n",
       "   'title': 'Morgan Park High School Color',\n",
       "   'caption': 'Morgan Park High School Color Morgan Park High School, 2016',\n",
       "   'url': 'https://commons.wikimedia.org/wiki/File:Morgan_Park_High_School_Color.jpg',\n",
       "   'imgUrl': 'https://upload.wikimedia.org/wikipedia/commons/thumb/a/aa/Morgan_Park_High_School_Color.jpg/800px-Morgan_Park_High_School_Color.jpg'},\n",
       "  {'image_id': 30164419,\n",
       "   'title': 'GAGE PARK FALL BEAUTY OCT 09',\n",
       "   'caption': 'GAGE PARK FALL BEAUTY OCT 09 Fall Colours in Gage Park',\n",
       "   'url': 'https://commons.wikimedia.org/wiki/File:GAGE_PARK_FALL_BEAUTY_OCT_09.jpg',\n",
       "   'imgUrl': 'https://upload.wikimedia.org/wikipedia/commons/thumb/a/ac/GAGE_PARK_FALL_BEAUTY_OCT_09.jpg/800px-GAGE_PARK_FALL_BEAUTY_OCT_09.jpg'},\n",
       "  {'image_id': 30194722,\n",
       "   'title': 'Rose Garden at Lynch Park',\n",
       "   'caption': 'Rose Garden at Lynch Park This garden is on the former site of the Stetson Cottage, on the Woodbury Point estate of Robert Dawson and Marie Antoinette Evans.',\n",
       "   'url': 'https://commons.wikimedia.org/wiki/File:Rose_Garden_at_Lynch_Park.jpg',\n",
       "   'imgUrl': 'https://upload.wikimedia.org/wikipedia/commons/5/57/Rose_Garden_at_Lynch_Park.jpg'},\n",
       "  {'image_id': 30195341,\n",
       "   'title': 'Sweet Home High School',\n",
       "   'caption': 'Sweet Home High School Sweet Home High School in Sweet Home, Oregon',\n",
       "   'url': 'https://commons.wikimedia.org/wiki/File:Sweet_Home_High_School.jpg',\n",
       "   'imgUrl': 'https://upload.wikimedia.org/wikipedia/commons/thumb/1/13/Sweet_Home_High_School.jpg/796px-Sweet_Home_High_School.jpg'},\n",
       "  {'image_id': 30222292,\n",
       "   'title': 'GageParkHamiltonA',\n",
       "   'caption': 'GageParkHamiltonA',\n",
       "   'url': 'https://commons.wikimedia.org/wiki/File:GageParkHamiltonA.JPG',\n",
       "   'imgUrl': 'https://upload.wikimedia.org/wikipedia/commons/thumb/8/86/GageParkHamiltonA.JPG/800px-GageParkHamiltonA.JPG'},\n",
       "  {'image_id': 30240292,\n",
       "   'title': 'WohlheterMansion',\n",
       "   'caption': 'WohlheterMansion Wohlheter Mansion, 320 Woodland Avenue, Fairmont, Minnesota.',\n",
       "   'url': 'https://commons.wikimedia.org/wiki/File:WohlheterMansion.jpg',\n",
       "   'imgUrl': 'https://upload.wikimedia.org/wikipedia/commons/a/af/WohlheterMansion.jpg'},\n",
       "  {'image_id': 30240842,\n",
       "   'title': 'Gage Park High School Chicago',\n",
       "   'caption': 'Gage Park High School Chicago Gage Park High School, Chicago',\n",
       "   'url': 'https://commons.wikimedia.org/wiki/File:Gage_Park_High_School_Chicago.jpg',\n",
       "   'imgUrl': 'https://upload.wikimedia.org/wikipedia/commons/thumb/7/7c/Gage_Park_High_School_Chicago.jpg/608px-Gage_Park_High_School_Chicago.jpg'},\n",
       "  {'image_id': 30247643,\n",
       "   'title': 'Wells High School (2016)',\n",
       "   'caption': 'Wells High School (2016) Wells High School, Wells, ME. The front entrance of the renovated 1977 building.',\n",
       "   'url': 'https://commons.wikimedia.org/wiki/File:Wells_High_School_(2016).jpg',\n",
       "   'imgUrl': 'https://upload.wikimedia.org/wikipedia/commons/thumb/2/21/Wells_High_School_%282016%29.jpg/800px-Wells_High_School_%282016%29.jpg'},\n",
       "  {'image_id': 30250919,\n",
       "   'title': 'Polanica Zdrój, park zdrojowy, 05',\n",
       "   'caption': 'Polanica Zdrój, park zdrojowy, 05',\n",
       "   'url': 'https://commons.wikimedia.org/wiki/File:Polanica_Zdr%C3%B3j%2C_park_zdrojowy%2C_05.JPG',\n",
       "   'imgUrl': 'https://upload.wikimedia.org/wikipedia/commons/thumb/0/0d/Polanica_Zdr%C3%B3j%2C_park_zdrojowy%2C_05.JPG/1200px-Polanica_Zdr%C3%B3j%2C_park_zdrojowy%2C_05.JPG'},\n",
       "  {'image_id': 30265181,\n",
       "   'title': 'Hugh hefner promo image cropped.png',\n",
       "   'caption': 'Hugh hefner promo image cropped.png Hugh Hefner in Playboy After Dark, cropped from original promo image',\n",
       "   'url': 'https://commons.wikimedia.org/wiki/File:Hugh_hefner_promo_image_cropped.png',\n",
       "   'imgUrl': 'https://upload.wikimedia.org/wikipedia/commons/thumb/7/72/Hugh_hefner_promo_image_cropped.png/531px-Hugh_hefner_promo_image_cropped.png'},\n",
       "  {'image_id': 30278260,\n",
       "   'title': 'Missouri-governor-mansion',\n",
       "   'caption': 'Missouri-governor-mansion',\n",
       "   'url': 'https://commons.wikimedia.org/wiki/File:Missouri-governor-mansion.jpg',\n",
       "   'imgUrl': 'https://upload.wikimedia.org/wikipedia/commons/thumb/6/6b/Missouri-governor-mansion.jpg/800px-Missouri-governor-mansion.jpg'},\n",
       "  {'image_id': 30286581,\n",
       "   'title': 'Lemp Mansion 2012',\n",
       "   'caption': 'Lemp Mansion 2012 Lemp Mansion in 2012',\n",
       "   'url': 'https://commons.wikimedia.org/wiki/File:Lemp_Mansion_2012.jpg',\n",
       "   'imgUrl': 'https://upload.wikimedia.org/wikipedia/commons/c/c5/Lemp_Mansion_2012.jpg'},\n",
       "  {'image_id': 30381655,\n",
       "   'title': 'Mick Jagger and Keith Richards',\n",
       "   'caption': 'Mick Jagger and Keith Richards Mick Jagger (left) and Keith Richards from The Rolling Stones at British Summer Time Festival in Hyde Park during a Rolling Stones concert, July 6, 2013',\n",
       "   'url': 'https://commons.wikimedia.org/wiki/File:Mick_Jagger_and_Keith_Richards.jpg',\n",
       "   'imgUrl': 'https://upload.wikimedia.org/wikipedia/commons/thumb/a/a4/Mick_Jagger_and_Keith_Richards.jpg/1185px-Mick_Jagger_and_Keith_Richards.jpg'}]}"
      ]
     },
     "execution_count": 4,
     "metadata": {},
     "output_type": "execute_result"
    }
   ],
   "source": [
    "test_data['d5bbc4440dba11ecb1e81171463288e9']"
   ]
  },
  {
   "cell_type": "markdown",
   "id": "0edd755c-4803-48bb-ba4a-83f8c7f6996f",
   "metadata": {},
   "source": [
    "### Todos\n",
    "- [x] category statistics\n",
    "- [x] making up subset"
   ]
  },
  {
   "cell_type": "markdown",
   "id": "63088c10-9b7b-4378-bf11-4bce4de2baa5",
   "metadata": {},
   "source": [
    "#### Category Statistics"
   ]
  },
  {
   "cell_type": "code",
   "execution_count": 11,
   "id": "1c32ec05-fe1b-4ec3-b757-b382ed98a36c",
   "metadata": {},
   "outputs": [
    {
     "data": {
      "text/plain": [
       "41732"
      ]
     },
     "execution_count": 11,
     "metadata": {},
     "output_type": "execute_result"
    }
   ],
   "source": [
    "len(train_data)"
   ]
  },
  {
   "cell_type": "code",
   "execution_count": 19,
   "id": "ac96167c-0665-4310-8868-1b4ad62e4d1b",
   "metadata": {},
   "outputs": [],
   "source": [
    "qcate2count = dict(Counter([train_data[k]['Qcate'] for k in train_data]))\n",
    "del qcate2count['text']"
   ]
  },
  {
   "cell_type": "code",
   "execution_count": 20,
   "id": "7c5a082b-836b-4f08-bd6c-2e17f05b2859",
   "metadata": {},
   "outputs": [
    {
     "data": {
      "text/plain": [
       "{'YesNo': 7320,\n",
       " 'Others': 5412,\n",
       " 'number': 2118,\n",
       " 'color': 1830,\n",
       " 'choose': 4220,\n",
       " 'shape': 565}"
      ]
     },
     "execution_count": 20,
     "metadata": {},
     "output_type": "execute_result"
    }
   ],
   "source": [
    "qcate2count"
   ]
  },
  {
   "cell_type": "code",
   "execution_count": 21,
   "id": "7fc60df2-9f8e-4008-9353-5301eecefc91",
   "metadata": {},
   "outputs": [],
   "source": [
    "counts = qcate2count.values()\n",
    "ratios = [count/sum(counts) for count in counts]\n",
    "qcate2ratio = dict(zip(list(qcate2count.keys()), ratios))"
   ]
  },
  {
   "cell_type": "code",
   "execution_count": 22,
   "id": "bd65f29b-de14-4c07-977c-d61d75c396fc",
   "metadata": {},
   "outputs": [
    {
     "data": {
      "text/plain": [
       "{'YesNo': 0.34102026554856746,\n",
       " 'Others': 0.25213137665967855,\n",
       " 'number': 0.0986722571628232,\n",
       " 'color': 0.08525506638714186,\n",
       " 'choose': 0.19659911483810855,\n",
       " 'shape': 0.02632191940368041}"
      ]
     },
     "execution_count": 22,
     "metadata": {},
     "output_type": "execute_result"
    }
   ],
   "source": [
    "\n",
    "qcate2ratio"
   ]
  },
  {
   "cell_type": "code",
   "execution_count": 24,
   "id": "87c6ac2f-2df9-47b5-aede-f5b9563c6df9",
   "metadata": {},
   "outputs": [],
   "source": [
    "subsetSize = 10000\n",
    "qcate2hc = {qcate:int(subsetSize*ratio) for (qcate,ratio) in qcate2ratio.items()}"
   ]
  },
  {
   "cell_type": "code",
   "execution_count": 27,
   "id": "bb6c80c4-4561-4be0-841b-8c32061bdd10",
   "metadata": {},
   "outputs": [],
   "source": [
    "qcate2hc = {'YesNo':2500, 'Others':2000, 'number':1500, 'color':1500, 'choose':2000, 'shape':1000}"
   ]
  },
  {
   "cell_type": "code",
   "execution_count": 56,
   "id": "d2ed5e45-c12a-4d0b-8bf9-af9d26c20451",
   "metadata": {},
   "outputs": [
    {
     "name": "stderr",
     "output_type": "stream",
     "text": [
      "100%|██████████| 41732/41732 [00:00<00:00, 1078230.44it/s]\n"
     ]
    }
   ],
   "source": [
    "subWebqa = {}\n",
    "import collections\n",
    "from tqdm import tqdm\n",
    "qcate2items = collections.defaultdict(list)\n",
    "for k in tqdm(train_data):\n",
    "    if train_data[k]['Qcate'] in qcate2hc:\n",
    "        qcate2items[train_data[k]['Qcate']].append((k, train_data[k]))\n",
    "from random import shuffle\n"
   ]
  },
  {
   "cell_type": "code",
   "execution_count": 57,
   "id": "90277b1e-ba84-41ef-b0c3-fdfcb73ab167",
   "metadata": {},
   "outputs": [
    {
     "data": {
      "text/plain": [
       "{'YesNo': 2500,\n",
       " 'Others': 2000,\n",
       " 'number': 1500,\n",
       " 'color': 1500,\n",
       " 'choose': 2000,\n",
       " 'shape': 1000}"
      ]
     },
     "execution_count": 57,
     "metadata": {},
     "output_type": "execute_result"
    }
   ],
   "source": [
    "qcate2hc"
   ]
  },
  {
   "cell_type": "code",
   "execution_count": 58,
   "id": "e98e7151-2800-4765-bb8d-d66281bec9c8",
   "metadata": {},
   "outputs": [
    {
     "name": "stdout",
     "output_type": "stream",
     "text": [
      "2500\n",
      "2000\n",
      "1500\n",
      "1500\n",
      "2000\n",
      "565\n"
     ]
    }
   ],
   "source": [
    "import random\n",
    "random.seed(11777)\n",
    "for qcate in qcate2items:\n",
    "    currPoolChoices = random.sample(qcate2items[qcate], min(len(qcate2items[qcate]), qcate2hc[qcate]))\n",
    "    print(len(currPoolChoices))\n",
    "    for k, v in currPoolChoices:\n",
    "        subWebqa[k] = v"
   ]
  },
  {
   "cell_type": "code",
   "execution_count": 59,
   "id": "1de6ef53-add4-4b8f-b88b-ce01a902495d",
   "metadata": {},
   "outputs": [
    {
     "data": {
      "text/plain": [
       "10065"
      ]
     },
     "execution_count": 59,
     "metadata": {},
     "output_type": "execute_result"
    }
   ],
   "source": [
    "len(subWebqa)"
   ]
  },
  {
   "cell_type": "code",
   "execution_count": 60,
   "id": "02d64cab-506f-410b-9a6f-9541bc716f36",
   "metadata": {},
   "outputs": [
    {
     "name": "stdout",
     "output_type": "stream",
     "text": [
      "Counter({'train': 8880, 'val': 1185})\n",
      "10065\n",
      "Counter({'YesNo': 2500, 'Others': 2000, 'choose': 2000, 'number': 1500, 'color': 1500, 'shape': 565})\n"
     ]
    }
   ],
   "source": [
    "print(Counter([subWebqa[k]['split'] for k in subWebqa]))\n",
    "print(len(set([subWebqa[k]['Guid'] for k in subWebqa])))\n",
    "print(Counter([subWebqa[k]['Qcate'] for k in subWebqa]))"
   ]
  },
  {
   "cell_type": "code",
   "execution_count": 49,
   "id": "89c83fa6-c65f-49be-9550-993f96bf29ad",
   "metadata": {},
   "outputs": [
    {
     "data": {
      "text/plain": [
       "2000"
      ]
     },
     "execution_count": 49,
     "metadata": {},
     "output_type": "execute_result"
    }
   ],
   "source": [
    "len(random.choices(qcate2items['YesNo'], k = 2000))"
   ]
  },
  {
   "cell_type": "markdown",
   "id": "d067dd4b-f171-4b56-a448-75808f6fa1f1",
   "metadata": {},
   "source": [
    "#### Make test_data subset"
   ]
  },
  {
   "cell_type": "code",
   "execution_count": 61,
   "id": "6003364a-db73-41a5-9f6b-4c5e7a8235c1",
   "metadata": {},
   "outputs": [
    {
     "ename": "KeyError",
     "evalue": "'Qcate'",
     "output_type": "error",
     "traceback": [
      "\u001b[0;31m---------------------------------------------------------------------------\u001b[0m",
      "\u001b[0;31mKeyError\u001b[0m                                  Traceback (most recent call last)",
      "Cell \u001b[0;32mIn [61], line 1\u001b[0m\n\u001b[0;32m----> 1\u001b[0m test_qcate2count \u001b[38;5;241m=\u001b[39m \u001b[38;5;28mdict\u001b[39m(Counter([test_data[k][\u001b[38;5;124m'\u001b[39m\u001b[38;5;124mQcate\u001b[39m\u001b[38;5;124m'\u001b[39m] \u001b[38;5;28;01mfor\u001b[39;00m k \u001b[38;5;129;01min\u001b[39;00m test_data]))\n\u001b[1;32m      2\u001b[0m \u001b[38;5;28;01mdel\u001b[39;00m test_qcate2count[\u001b[38;5;124m'\u001b[39m\u001b[38;5;124mtext\u001b[39m\u001b[38;5;124m'\u001b[39m]\n",
      "Cell \u001b[0;32mIn [61], line 1\u001b[0m, in \u001b[0;36m<listcomp>\u001b[0;34m(.0)\u001b[0m\n\u001b[0;32m----> 1\u001b[0m test_qcate2count \u001b[38;5;241m=\u001b[39m \u001b[38;5;28mdict\u001b[39m(Counter([\u001b[43mtest_data\u001b[49m\u001b[43m[\u001b[49m\u001b[43mk\u001b[49m\u001b[43m]\u001b[49m\u001b[43m[\u001b[49m\u001b[38;5;124;43m'\u001b[39;49m\u001b[38;5;124;43mQcate\u001b[39;49m\u001b[38;5;124;43m'\u001b[39;49m\u001b[43m]\u001b[49m \u001b[38;5;28;01mfor\u001b[39;00m k \u001b[38;5;129;01min\u001b[39;00m test_data]))\n\u001b[1;32m      2\u001b[0m \u001b[38;5;28;01mdel\u001b[39;00m test_qcate2count[\u001b[38;5;124m'\u001b[39m\u001b[38;5;124mtext\u001b[39m\u001b[38;5;124m'\u001b[39m]\n",
      "\u001b[0;31mKeyError\u001b[0m: 'Qcate'"
     ]
    }
   ],
   "source": [
    "test_qcate2count = dict(Counter([test_data[k]['Qcate'] for k in test_data]))\n",
    "del test_qcate2count['text']"
   ]
  },
  {
   "cell_type": "code",
   "execution_count": 65,
   "id": "8c49cba6-a4ea-433b-a8bf-53728ea80ded",
   "metadata": {},
   "outputs": [
    {
     "data": {
      "text/plain": [
       "7540"
      ]
     },
     "execution_count": 65,
     "metadata": {},
     "output_type": "execute_result"
    }
   ],
   "source": [
    "len(test_data)"
   ]
  },
  {
   "cell_type": "code",
   "execution_count": 67,
   "id": "a6c309c8-45ef-40d4-89da-9b66d2323509",
   "metadata": {},
   "outputs": [
    {
     "name": "stderr",
     "output_type": "stream",
     "text": [
      "/tmp/ipykernel_64752/3513286519.py:1: DeprecationWarning: Sampling from a set deprecated\n",
      "since Python 3.9 and will be removed in a subsequent version.\n",
      "  testSubWebqa = {k:v for k,v in list(random.sample(test_data.items() ,2003))}\n"
     ]
    }
   ],
   "source": [
    "testSubWebqa = {k:v for k,v in list(random.sample(test_data.items() ,2003))}"
   ]
  },
  {
   "cell_type": "code",
   "execution_count": 70,
   "id": "33fb5c7c-423d-4c96-9d2a-7a8f5d426909",
   "metadata": {},
   "outputs": [
    {
     "data": {
      "text/plain": [
       "2003"
      ]
     },
     "execution_count": 70,
     "metadata": {},
     "output_type": "execute_result"
    }
   ],
   "source": [
    "len(testSubWebqa)"
   ]
  },
  {
   "cell_type": "code",
   "execution_count": 71,
   "id": "c5251227-f17b-4b45-9339-9d34e1beaaca",
   "metadata": {},
   "outputs": [],
   "source": [
    "# testSubWebqa['d5c9dd040dba11ecb1e81171463288e9']"
   ]
  },
  {
   "cell_type": "code",
   "execution_count": 72,
   "id": "1c36a379-c01a-4db0-9528-20a4d9771551",
   "metadata": {},
   "outputs": [],
   "source": [
    "# test_data['d5bbc4440dba11ecb1e81171463288e9']"
   ]
  },
  {
   "cell_type": "code",
   "execution_count": 76,
   "id": "f33feacf-ff4a-45e4-8f7b-dbc39bdbc24c",
   "metadata": {},
   "outputs": [],
   "source": [
    "train_subset = {k:v for k,v in subWebqa.items() if subWebqa[k]['split'] == 'train'}\n",
    "valid_subset = {k:v for k,v in subWebqa.items() if subWebqa[k]['split'] == 'val'}"
   ]
  },
  {
   "cell_type": "code",
   "execution_count": 77,
   "id": "6561fcdf-e520-44b8-b967-133429a8c43d",
   "metadata": {},
   "outputs": [
    {
     "data": {
      "text/plain": [
       "8880"
      ]
     },
     "execution_count": 77,
     "metadata": {},
     "output_type": "execute_result"
    }
   ],
   "source": [
    "len(train_subset)"
   ]
  },
  {
   "cell_type": "code",
   "execution_count": 78,
   "id": "1a1b2bd5-cc51-4de8-a883-a88ad5506a7e",
   "metadata": {},
   "outputs": [
    {
     "data": {
      "text/plain": [
       "1185"
      ]
     },
     "execution_count": 78,
     "metadata": {},
     "output_type": "execute_result"
    }
   ],
   "source": [
    "len(valid_subset)"
   ]
  },
  {
   "cell_type": "code",
   "execution_count": 79,
   "id": "61a12f7b-50a8-4e32-ae39-8194f8e702bf",
   "metadata": {},
   "outputs": [
    {
     "data": {
      "text/plain": [
       "2003"
      ]
     },
     "execution_count": 79,
     "metadata": {},
     "output_type": "execute_result"
    }
   ],
   "source": [
    "len(testSubWebqa)"
   ]
  },
  {
   "cell_type": "code",
   "execution_count": 80,
   "id": "c2fd8d2a-d0e5-49b4-9849-b822297572c5",
   "metadata": {},
   "outputs": [
    {
     "name": "stdout",
     "output_type": "stream",
     "text": [
      "Counter({'train': 8880})\n",
      "8880\n",
      "Counter({'YesNo': 2218, 'choose': 1755, 'Others': 1747, 'color': 1351, 'number': 1318, 'shape': 491})\n"
     ]
    }
   ],
   "source": [
    "print(Counter([train_subset[k]['split'] for k in train_subset]))\n",
    "print(len(set([train_subset[k]['Guid'] for k in train_subset])))\n",
    "print(Counter([train_subset[k]['Qcate'] for k in train_subset]))"
   ]
  },
  {
   "cell_type": "code",
   "execution_count": 81,
   "id": "5406f207-a23c-4d60-9b9f-6db4b5105142",
   "metadata": {},
   "outputs": [
    {
     "name": "stdout",
     "output_type": "stream",
     "text": [
      "Counter({'val': 1185})\n",
      "1185\n",
      "Counter({'YesNo': 282, 'Others': 253, 'choose': 245, 'number': 182, 'color': 149, 'shape': 74})\n"
     ]
    }
   ],
   "source": [
    "print(Counter([valid_subset[k]['split'] for k in valid_subset]))\n",
    "print(len(set([valid_subset[k]['Guid'] for k in valid_subset])))\n",
    "print(Counter([valid_subset[k]['Qcate'] for k in valid_subset]))"
   ]
  },
  {
   "cell_type": "code",
   "execution_count": 82,
   "id": "71428cbb-6182-4fab-8733-a741bd06e916",
   "metadata": {},
   "outputs": [],
   "source": [
    "with open('../subWebqa/data/train_subWebqa.json','w')as f:\n",
    "    json.dump(train_subset, f)\n",
    "with open('../subWebqa/data/val_subWebqa.json','w') as f:\n",
    "    json.dump(valid_subset, f)\n",
    "with open('../subWebqa/data/test_subWebqa.json','w') as f:\n",
    "    json.dump(testSubWebqa, f)"
   ]
  },
  {
   "cell_type": "code",
   "execution_count": null,
   "id": "6076c4df-5e24-46f3-9f57-138263496200",
   "metadata": {},
   "outputs": [],
   "source": []
  }
 ],
 "metadata": {
  "kernelspec": {
   "display_name": "Python 3 (ipykernel)",
   "language": "python",
   "name": "python3"
  },
  "language_info": {
   "codemirror_mode": {
    "name": "ipython",
    "version": 3
   },
   "file_extension": ".py",
   "mimetype": "text/x-python",
   "name": "python",
   "nbconvert_exporter": "python",
   "pygments_lexer": "ipython3",
   "version": "3.9.12"
  }
 },
 "nbformat": 4,
 "nbformat_minor": 5
}
