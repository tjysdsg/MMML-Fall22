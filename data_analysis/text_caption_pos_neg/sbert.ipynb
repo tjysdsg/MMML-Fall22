{
 "cells": [
  {
   "cell_type": "markdown",
   "id": "1cdc3b15-1cf8-4234-9031-0d3b007df4cc",
   "metadata": {},
   "source": [
    "# Prepare subset data and sentence-transformer features"
   ]
  },
  {
   "cell_type": "code",
   "execution_count": 148,
   "id": "006ef90d-4317-4625-be65-bffbd30541f6",
   "metadata": {},
   "outputs": [],
   "source": [
    "import os\n",
    "import json\n",
    "import h5py\n",
    "import numpy as np\n",
    "import pandas as pd\n",
    "from tqdm import tqdm\n",
    "from collections import Counter, defaultdict"
   ]
  },
  {
   "cell_type": "code",
   "execution_count": 2,
   "id": "235d6e25-7697-46cc-bee4-a7fbf94181c3",
   "metadata": {},
   "outputs": [
    {
     "name": "stderr",
     "output_type": "stream",
     "text": [
      "/jet/home/zzhou5/miniconda3/lib/python3.9/site-packages/tqdm/auto.py:22: TqdmWarning: IProgress not found. Please update jupyter and ipywidgets. See https://ipywidgets.readthedocs.io/en/stable/user_install.html\n",
      "  from .autonotebook import tqdm as notebook_tqdm\n",
      "Downloading: 100%|██████████| 1.18k/1.18k [00:00<00:00, 1.96MB/s]\n",
      "Downloading: 100%|██████████| 190/190 [00:00<00:00, 264kB/s]\n",
      "Downloading: 100%|██████████| 10.6k/10.6k [00:00<00:00, 15.5MB/s]\n",
      "Downloading: 100%|██████████| 612/612 [00:00<00:00, 1.18MB/s]\n",
      "Downloading: 100%|██████████| 116/116 [00:00<00:00, 185kB/s]\n",
      "Downloading: 100%|██████████| 39.3k/39.3k [00:00<00:00, 6.54MB/s]\n",
      "Downloading: 100%|██████████| 90.9M/90.9M [00:01<00:00, 77.3MB/s]\n",
      "Downloading: 100%|██████████| 53.0/53.0 [00:00<00:00, 73.5kB/s]\n",
      "Downloading: 100%|██████████| 112/112 [00:00<00:00, 224kB/s]\n",
      "Downloading: 100%|██████████| 466k/466k [00:00<00:00, 14.1MB/s]\n",
      "Downloading: 100%|██████████| 350/350 [00:00<00:00, 547kB/s]\n",
      "Downloading: 100%|██████████| 13.2k/13.2k [00:00<00:00, 15.0MB/s]\n",
      "Downloading: 100%|██████████| 232k/232k [00:00<00:00, 9.29MB/s]\n",
      "Downloading: 100%|██████████| 349/349 [00:00<00:00, 506kB/s]\n"
     ]
    }
   ],
   "source": [
    "from sentence_transformers import SentenceTransformer\n",
    "model = SentenceTransformer('all-MiniLM-L6-v2')"
   ]
  },
  {
   "cell_type": "code",
   "execution_count": 17,
   "id": "16e22499-f7ac-47c4-9f70-c638d588ea62",
   "metadata": {},
   "outputs": [],
   "source": [
    "webqa_test_path = '../../../data/WebQA_test.json'\n",
    "with open(webqa_test_path, 'r') as f:\n",
    "    test_data = json.load(f)"
   ]
  },
  {
   "cell_type": "code",
   "execution_count": 6,
   "id": "7ffd651e-10a5-4bca-bf6e-7f648bd3dc37",
   "metadata": {},
   "outputs": [],
   "source": [
    "webqa_train_path = '../../../data/WebQA_train_val.json'\n",
    "with open(webqa_train_path, 'r') as f:\n",
    "    train_data = json.load(f)"
   ]
  },
  {
   "cell_type": "code",
   "execution_count": 61,
   "id": "672b4af1-3e1e-4687-8c4f-950af8ace9f9",
   "metadata": {},
   "outputs": [],
   "source": [
    "qcate2count = dict(Counter([train_data[k]['Qcate'] for k in train_data]))"
   ]
  },
  {
   "cell_type": "code",
   "execution_count": 62,
   "id": "3cf96a88-ed42-45a0-9d10-bc596e70e52d",
   "metadata": {},
   "outputs": [],
   "source": [
    "qcate2int = {cate:i for i,cate in enumerate(qcate2count)}"
   ]
  },
  {
   "cell_type": "code",
   "execution_count": 33,
   "id": "130d00a6-4460-4cfb-a9f3-115e40abbcf9",
   "metadata": {},
   "outputs": [],
   "source": [
    "train_queries = '../../webqa/pos_neg_image_fact_analysis/train.tsv'\n",
    "val_queries = '../../webqa/pos_neg_image_fact_analysis/val.tsv'\n",
    "test_queries = '../../webqa/pos_neg_image_fact_analysis/test.tsv'"
   ]
  },
  {
   "cell_type": "markdown",
   "id": "3500484b-9404-415a-9e69-74e73b1ad787",
   "metadata": {},
   "source": [
    "### Prepare Subset Data"
   ]
  },
  {
   "cell_type": "code",
   "execution_count": 94,
   "id": "21b11922-e639-4c76-95d5-2a8cfffc6097",
   "metadata": {},
   "outputs": [
    {
     "name": "stderr",
     "output_type": "stream",
     "text": [
      "  0%|          | 0/6331 [00:00<?, ?it/s]/tmp/ipykernel_92217/1377939474.py:10: SettingWithCopyWarning: \n",
      "A value is trying to be set on a copy of a slice from a DataFrame\n",
      "\n",
      "See the caveats in the documentation: https://pandas.pydata.org/pandas-docs/stable/user_guide/indexing.html#returning-a-view-versus-a-copy\n",
      "  phase_df['qcate'][i] = qcate2int[train_data[tmp_guid]['Qcate']]\n",
      "100%|██████████| 6331/6331 [00:01<00:00, 3828.47it/s]\n",
      "  0%|          | 0/2948 [00:00<?, ?it/s]/tmp/ipykernel_92217/1377939474.py:10: SettingWithCopyWarning: \n",
      "A value is trying to be set on a copy of a slice from a DataFrame\n",
      "\n",
      "See the caveats in the documentation: https://pandas.pydata.org/pandas-docs/stable/user_guide/indexing.html#returning-a-view-versus-a-copy\n",
      "  phase_df['qcate'][i] = qcate2int[train_data[tmp_guid]['Qcate']]\n",
      "100%|██████████| 2948/2948 [00:00<00:00, 3811.96it/s]\n",
      "  0%|          | 0/1343 [00:00<?, ?it/s]/tmp/ipykernel_92217/1377939474.py:10: SettingWithCopyWarning: \n",
      "A value is trying to be set on a copy of a slice from a DataFrame\n",
      "\n",
      "See the caveats in the documentation: https://pandas.pydata.org/pandas-docs/stable/user_guide/indexing.html#returning-a-view-versus-a-copy\n",
      "  phase_df['qcate'][i] = qcate2int[train_data[tmp_guid]['Qcate']]\n",
      "100%|██████████| 1343/1343 [00:00<00:00, 3830.99it/s]\n"
     ]
    }
   ],
   "source": [
    "phases = ['train', 'test', 'val']\n",
    "for phase in phases:\n",
    "    curr_data_path = '../../webqa/pos_neg_image_fact_analysis/%s.tsv'%phase\n",
    "    phase_df = pd.read_csv(curr_data_path, header=None, sep='\\t')\n",
    "    phase_df = phase_df.rename(columns={0: 'Guid', 1: 'utt_id', 2: 'isPos'})\n",
    "    phase_df['qcate'] = 0\n",
    "    for i in tqdm(range(len(phase_df))):\n",
    "        tmp_guid, tmp_uttid, tmp_ispos, _ = phase_df.iloc[i]\n",
    "        # print(qcate2int[train_data[tmp_guid]['Qcate']])\n",
    "        phase_df['qcate'][i] = qcate2int[train_data[tmp_guid]['Qcate']]\n",
    "    phase_df.to_csv('%s.csv'%phase, index=False)\n"
   ]
  },
  {
   "cell_type": "markdown",
   "id": "24df7852-0ca8-4cfb-9082-8d418f2d228e",
   "metadata": {},
   "source": [
    "### Prepare SBert Features"
   ]
  },
  {
   "cell_type": "code",
   "execution_count": 151,
   "id": "82f11ac6-cd37-4f95-955b-757d97179b11",
   "metadata": {},
   "outputs": [
    {
     "name": "stderr",
     "output_type": "stream",
     "text": [
      "100%|██████████| 6331/6331 [00:00<00:00, 15716.31it/s]\n",
      "100%|██████████| 2948/2948 [00:00<00:00, 15402.66it/s]\n",
      "100%|██████████| 1343/1343 [00:00<00:00, 14586.41it/s]\n"
     ]
    }
   ],
   "source": [
    "phases = ['train', 'test', 'val']\n",
    "for phase in phases:\n",
    "    curr_data_path = 'subData/%s.csv'%phase\n",
    "    phase_df = pd.read_csv(curr_data_path)\n",
    "    # phase_df = phase_df.rename(columns={0: 'Guid', 1: 'utt_id', 2: 'isPos'})\n",
    "    phase_id = []\n",
    "    phase_senteces = []\n",
    "    for i in tqdm(range(len(phase_df))):\n",
    "        tmp_guid, tmp_uttid, tmp_ispos, tmp_qcate = phase_df.iloc[i]\n",
    "        if tmp_ispos == 1:\n",
    "            tmp_pool = train_data[tmp_guid]['img_posFacts']\n",
    "        else:\n",
    "            tmp_pool = train_data[tmp_guid]['img_negFacts']\n",
    "        for item in tmp_pool:\n",
    "            if item['image_id'] == tmp_uttid:\n",
    "                phase_id.append(f'{tmp_guid}-{tmp_uttid}-{tmp_ispos}-{tmp_qcate}')\n",
    "                phase_senteces.append(item['caption'])\n",
    "                break\n",
    "\n",
    "    phase_h5_out_path = '%s.h5'%phase\n",
    "    phase_feats = model.encode(phase_senteces)\n",
    "    assert len(phase_feats) == len(phase_id)\n",
    "    phase_h5 = h5py.File(phase_h5_out_path,'w')\n",
    "    phase_h5.create_dataset('text_uttid', data=phase_id)\n",
    "    phase_h5.create_dataset('text_sbert_feat', data=phase_feats)\n",
    "    phase_h5.close()"
   ]
  },
  {
   "cell_type": "code",
   "execution_count": null,
   "id": "033632ad-7955-4485-b7d3-5e4415d0943e",
   "metadata": {},
   "outputs": [],
   "source": []
  }
 ],
 "metadata": {
  "kernelspec": {
   "display_name": "Python 3 (ipykernel)",
   "language": "python",
   "name": "python3"
  },
  "language_info": {
   "codemirror_mode": {
    "name": "ipython",
    "version": 3
   },
   "file_extension": ".py",
   "mimetype": "text/x-python",
   "name": "python",
   "nbconvert_exporter": "python",
   "pygments_lexer": "ipython3",
   "version": "3.9.12"
  }
 },
 "nbformat": 4,
 "nbformat_minor": 5
}
